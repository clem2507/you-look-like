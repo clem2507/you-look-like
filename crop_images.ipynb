{
 "cells": [
  {
   "cell_type": "code",
   "execution_count": 1,
   "metadata": {},
   "outputs": [
    {
     "name": "stderr",
     "output_type": "stream",
     "text": [
      "c:\\Users\\cdetr\\Documents\\GitHub\\you-look-like\\venv\\lib\\site-packages\\tqdm\\auto.py:22: TqdmWarning: IProgress not found. Please update jupyter and ipywidgets. See https://ipywidgets.readthedocs.io/en/stable/user_install.html\n",
      "  from .autonotebook import tqdm as notebook_tqdm\n"
     ]
    }
   ],
   "source": [
    "import os\n",
    "import cv2\n",
    "\n",
    "from yolov5.detect import run\n",
    "from util import resize_face, is_face_centered"
   ]
  },
  {
   "cell_type": "code",
   "execution_count": null,
   "metadata": {},
   "outputs": [],
   "source": [
    "out = run('yolov5/weights/best.pt', source=0, nosave=True, conf_thres=0.8)\n",
    "crop_im = resize_face(out['frame'], out['box'])\n",
    "\n",
    "cv2.imshow('image', crop_im)\n",
    "cv2.waitKey(0)"
   ]
  },
  {
   "cell_type": "code",
   "execution_count": 2,
   "metadata": {},
   "outputs": [
    {
     "name": "stderr",
     "output_type": "stream",
     "text": [
      "YOLOv5  2022-5-3 torch 1.11.0+cu113 CUDA:0 (NVIDIA GeForce RTX 3060, 12288MiB)\n",
      "\n",
      "Fusing layers... \n",
      "Model summary: 290 layers, 20852934 parameters, 0 gradients, 47.9 GFLOPs\n",
      "Speed: 6.0ms pre-process, 111.0ms inference, 0.0ms NMS per image at shape (1, 3, 640, 640)\n",
      "YOLOv5  2022-5-3 torch 1.11.0+cu113 CUDA:0 (NVIDIA GeForce RTX 3060, 12288MiB)\n",
      "\n"
     ]
    },
    {
     "name": "stdout",
     "output_type": "stream",
     "text": [
      "face bounding box coordinates: {'x_tl': 0, 'y_tl': 0, 'x_br': 0, 'y_br': 0}\n"
     ]
    },
    {
     "name": "stderr",
     "output_type": "stream",
     "text": [
      "Fusing layers... \n",
      "Model summary: 290 layers, 20852934 parameters, 0 gradients, 47.9 GFLOPs\n",
      "Speed: 6.0ms pre-process, 172.0ms inference, 6.0ms NMS per image at shape (1, 3, 640, 640)\n",
      "YOLOv5  2022-5-3 torch 1.11.0+cu113 CUDA:0 (NVIDIA GeForce RTX 3060, 12288MiB)\n",
      "\n"
     ]
    },
    {
     "name": "stdout",
     "output_type": "stream",
     "text": [
      "face bounding box coordinates: {'x_tl': 0, 'y_tl': 0, 'x_br': 0, 'y_br': 0}\n"
     ]
    },
    {
     "name": "stderr",
     "output_type": "stream",
     "text": [
      "Fusing layers... \n",
      "Model summary: 290 layers, 20852934 parameters, 0 gradients, 47.9 GFLOPs\n",
      "Speed: 9.0ms pre-process, 84.0ms inference, 15.0ms NMS per image at shape (1, 3, 640, 640)\n",
      "YOLOv5  2022-5-3 torch 1.11.0+cu113 CUDA:0 (NVIDIA GeForce RTX 3060, 12288MiB)\n",
      "\n"
     ]
    },
    {
     "name": "stdout",
     "output_type": "stream",
     "text": [
      "face bounding box coordinates: {'x_tl': 32, 'y_tl': 218, 'x_br': 167, 'y_br': 0}\n"
     ]
    },
    {
     "name": "stderr",
     "output_type": "stream",
     "text": [
      "Fusing layers... \n",
      "Model summary: 290 layers, 20852934 parameters, 0 gradients, 47.9 GFLOPs\n",
      "Speed: 3.0ms pre-process, 123.0ms inference, 10.0ms NMS per image at shape (1, 3, 640, 640)\n",
      "YOLOv5  2022-5-3 torch 1.11.0+cu113 CUDA:0 (NVIDIA GeForce RTX 3060, 12288MiB)\n",
      "\n"
     ]
    },
    {
     "name": "stdout",
     "output_type": "stream",
     "text": [
      "face bounding box coordinates: {'x_tl': 42, 'y_tl': 87, 'x_br': 77, 'y_br': 39}\n"
     ]
    },
    {
     "name": "stderr",
     "output_type": "stream",
     "text": [
      "Fusing layers... \n",
      "Model summary: 290 layers, 20852934 parameters, 0 gradients, 47.9 GFLOPs\n",
      "Speed: 1.0ms pre-process, 60.0ms inference, 9.0ms NMS per image at shape (1, 3, 640, 640)\n",
      "YOLOv5  2022-5-3 torch 1.11.0+cu113 CUDA:0 (NVIDIA GeForce RTX 3060, 12288MiB)\n",
      "\n"
     ]
    },
    {
     "name": "stdout",
     "output_type": "stream",
     "text": [
      "face bounding box coordinates: {'x_tl': 0, 'y_tl': 159, 'x_br': 51, 'y_br': 4}\n"
     ]
    },
    {
     "name": "stderr",
     "output_type": "stream",
     "text": [
      "Fusing layers... \n",
      "Model summary: 290 layers, 20852934 parameters, 0 gradients, 47.9 GFLOPs\n",
      "Speed: 0.0ms pre-process, 56.3ms inference, 0.7ms NMS per image at shape (1, 3, 640, 640)\n",
      "YOLOv5  2022-5-3 torch 1.11.0+cu113 CUDA:0 (NVIDIA GeForce RTX 3060, 12288MiB)\n",
      "\n"
     ]
    },
    {
     "name": "stdout",
     "output_type": "stream",
     "text": [
      "face bounding box coordinates: {'x_tl': 0, 'y_tl': 0, 'x_br': 0, 'y_br': 0}\n"
     ]
    },
    {
     "name": "stderr",
     "output_type": "stream",
     "text": [
      "Fusing layers... \n",
      "Model summary: 290 layers, 20852934 parameters, 0 gradients, 47.9 GFLOPs\n",
      "Speed: 0.0ms pre-process, 56.0ms inference, 4.0ms NMS per image at shape (1, 3, 640, 640)\n",
      "YOLOv5  2022-5-3 torch 1.11.0+cu113 CUDA:0 (NVIDIA GeForce RTX 3060, 12288MiB)\n",
      "\n"
     ]
    },
    {
     "name": "stdout",
     "output_type": "stream",
     "text": [
      "face bounding box coordinates: {'x_tl': 101, 'y_tl': 139, 'x_br': 208, 'y_br': 0}\n"
     ]
    },
    {
     "name": "stderr",
     "output_type": "stream",
     "text": [
      "Fusing layers... \n",
      "Model summary: 290 layers, 20852934 parameters, 0 gradients, 47.9 GFLOPs\n",
      "Speed: 4.0ms pre-process, 74.0ms inference, 6.0ms NMS per image at shape (1, 3, 640, 640)\n",
      "YOLOv5  2022-5-3 torch 1.11.0+cu113 CUDA:0 (NVIDIA GeForce RTX 3060, 12288MiB)\n",
      "\n"
     ]
    },
    {
     "name": "stdout",
     "output_type": "stream",
     "text": [
      "face bounding box coordinates: {'x_tl': 115, 'y_tl': 108, 'x_br': 193, 'y_br': 0}\n"
     ]
    },
    {
     "name": "stderr",
     "output_type": "stream",
     "text": [
      "Fusing layers... \n",
      "Model summary: 290 layers, 20852934 parameters, 0 gradients, 47.9 GFLOPs\n",
      "Speed: 0.0ms pre-process, 68.0ms inference, 1.0ms NMS per image at shape (1, 3, 640, 640)\n",
      "YOLOv5  2022-5-3 torch 1.11.0+cu113 CUDA:0 (NVIDIA GeForce RTX 3060, 12288MiB)\n",
      "\n"
     ]
    },
    {
     "name": "stdout",
     "output_type": "stream",
     "text": [
      "face bounding box coordinates: {'x_tl': 0, 'y_tl': 0, 'x_br': 0, 'y_br': 0}\n"
     ]
    },
    {
     "name": "stderr",
     "output_type": "stream",
     "text": [
      "Fusing layers... \n",
      "Model summary: 290 layers, 20852934 parameters, 0 gradients, 47.9 GFLOPs\n",
      "Speed: 1.0ms pre-process, 70.0ms inference, 1.0ms NMS per image at shape (1, 3, 640, 640)\n",
      "YOLOv5  2022-5-3 torch 1.11.0+cu113 CUDA:0 (NVIDIA GeForce RTX 3060, 12288MiB)\n",
      "\n"
     ]
    },
    {
     "name": "stdout",
     "output_type": "stream",
     "text": [
      "face bounding box coordinates: {'x_tl': 125, 'y_tl': 150, 'x_br': 228, 'y_br': 2}\n"
     ]
    },
    {
     "name": "stderr",
     "output_type": "stream",
     "text": [
      "Fusing layers... \n",
      "Model summary: 290 layers, 20852934 parameters, 0 gradients, 47.9 GFLOPs\n",
      "Speed: 3.0ms pre-process, 48.0ms inference, 0.0ms NMS per image at shape (1, 3, 640, 640)\n",
      "YOLOv5  2022-5-3 torch 1.11.0+cu113 CUDA:0 (NVIDIA GeForce RTX 3060, 12288MiB)\n",
      "\n"
     ]
    },
    {
     "name": "stdout",
     "output_type": "stream",
     "text": [
      "face bounding box coordinates: {'x_tl': 0, 'y_tl': 0, 'x_br': 0, 'y_br': 0}\n"
     ]
    },
    {
     "name": "stderr",
     "output_type": "stream",
     "text": [
      "Fusing layers... \n",
      "Model summary: 290 layers, 20852934 parameters, 0 gradients, 47.9 GFLOPs\n",
      "Speed: 3.0ms pre-process, 76.0ms inference, 0.0ms NMS per image at shape (1, 3, 640, 640)\n",
      "YOLOv5  2022-5-3 torch 1.11.0+cu113 CUDA:0 (NVIDIA GeForce RTX 3060, 12288MiB)\n",
      "\n"
     ]
    },
    {
     "name": "stdout",
     "output_type": "stream",
     "text": [
      "face bounding box coordinates: {'x_tl': 0, 'y_tl': 0, 'x_br': 0, 'y_br': 0}\n"
     ]
    },
    {
     "name": "stderr",
     "output_type": "stream",
     "text": [
      "Fusing layers... \n",
      "Model summary: 290 layers, 20852934 parameters, 0 gradients, 47.9 GFLOPs\n",
      "Speed: 6.0ms pre-process, 85.0ms inference, 12.0ms NMS per image at shape (1, 3, 640, 640)\n",
      "YOLOv5  2022-5-3 torch 1.11.0+cu113 CUDA:0 (NVIDIA GeForce RTX 3060, 12288MiB)\n",
      "\n"
     ]
    },
    {
     "name": "stdout",
     "output_type": "stream",
     "text": [
      "face bounding box coordinates: {'x_tl': 49, 'y_tl': 191, 'x_br': 177, 'y_br': 0}\n"
     ]
    },
    {
     "name": "stderr",
     "output_type": "stream",
     "text": [
      "Fusing layers... \n",
      "Model summary: 290 layers, 20852934 parameters, 0 gradients, 47.9 GFLOPs\n",
      "Speed: 5.9ms pre-process, 59.0ms inference, 18.0ms NMS per image at shape (1, 3, 640, 640)\n",
      "YOLOv5  2022-5-3 torch 1.11.0+cu113 CUDA:0 (NVIDIA GeForce RTX 3060, 12288MiB)\n",
      "\n"
     ]
    },
    {
     "name": "stdout",
     "output_type": "stream",
     "text": [
      "face bounding box coordinates: {'x_tl': 201, 'y_tl': 114, 'x_br': 268, 'y_br': 28}\n"
     ]
    },
    {
     "name": "stderr",
     "output_type": "stream",
     "text": [
      "Fusing layers... \n",
      "Model summary: 290 layers, 20852934 parameters, 0 gradients, 47.9 GFLOPs\n",
      "Speed: 6.0ms pre-process, 73.0ms inference, 13.0ms NMS per image at shape (1, 3, 640, 640)\n",
      "YOLOv5  2022-5-3 torch 1.11.0+cu113 CUDA:0 (NVIDIA GeForce RTX 3060, 12288MiB)\n",
      "\n"
     ]
    },
    {
     "name": "stdout",
     "output_type": "stream",
     "text": [
      "face bounding box coordinates: {'x_tl': 61, 'y_tl': 131, 'x_br': 149, 'y_br': 4}\n"
     ]
    },
    {
     "name": "stderr",
     "output_type": "stream",
     "text": [
      "Fusing layers... \n",
      "Model summary: 290 layers, 20852934 parameters, 0 gradients, 47.9 GFLOPs\n",
      "Speed: 1.0ms pre-process, 82.0ms inference, 1.0ms NMS per image at shape (1, 3, 640, 640)\n",
      "YOLOv5  2022-5-3 torch 1.11.0+cu113 CUDA:0 (NVIDIA GeForce RTX 3060, 12288MiB)\n",
      "\n"
     ]
    },
    {
     "name": "stdout",
     "output_type": "stream",
     "text": [
      "face bounding box coordinates: {'x_tl': 0, 'y_tl': 0, 'x_br': 0, 'y_br': 0}\n"
     ]
    },
    {
     "name": "stderr",
     "output_type": "stream",
     "text": [
      "Fusing layers... \n",
      "Model summary: 290 layers, 20852934 parameters, 0 gradients, 47.9 GFLOPs\n",
      "Speed: 3.3ms pre-process, 70.0ms inference, 9.0ms NMS per image at shape (1, 3, 640, 640)\n",
      "YOLOv5  2022-5-3 torch 1.11.0+cu113 CUDA:0 (NVIDIA GeForce RTX 3060, 12288MiB)\n",
      "\n"
     ]
    },
    {
     "name": "stdout",
     "output_type": "stream",
     "text": [
      "face bounding box coordinates: {'x_tl': 45, 'y_tl': 76, 'x_br': 103, 'y_br': 1}\n"
     ]
    },
    {
     "name": "stderr",
     "output_type": "stream",
     "text": [
      "Fusing layers... \n",
      "Model summary: 290 layers, 20852934 parameters, 0 gradients, 47.9 GFLOPs\n",
      "Speed: 3.0ms pre-process, 70.0ms inference, 15.0ms NMS per image at shape (1, 3, 640, 640)\n",
      "YOLOv5  2022-5-3 torch 1.11.0+cu113 CUDA:0 (NVIDIA GeForce RTX 3060, 12288MiB)\n",
      "\n"
     ]
    },
    {
     "name": "stdout",
     "output_type": "stream",
     "text": [
      "face bounding box coordinates: {'x_tl': 20, 'y_tl': 213, 'x_br': 155, 'y_br': 9}\n"
     ]
    },
    {
     "name": "stderr",
     "output_type": "stream",
     "text": [
      "Fusing layers... \n",
      "Model summary: 290 layers, 20852934 parameters, 0 gradients, 47.9 GFLOPs\n",
      "Speed: 1.0ms pre-process, 61.0ms inference, 7.0ms NMS per image at shape (1, 3, 640, 640)\n",
      "YOLOv5  2022-5-3 torch 1.11.0+cu113 CUDA:0 (NVIDIA GeForce RTX 3060, 12288MiB)\n",
      "\n"
     ]
    },
    {
     "name": "stdout",
     "output_type": "stream",
     "text": [
      "face bounding box coordinates: {'x_tl': 69, 'y_tl': 66, 'x_br': 117, 'y_br': 3}\n"
     ]
    },
    {
     "name": "stderr",
     "output_type": "stream",
     "text": [
      "Fusing layers... \n",
      "Model summary: 290 layers, 20852934 parameters, 0 gradients, 47.9 GFLOPs\n",
      "Speed: 9.0ms pre-process, 73.0ms inference, 4.0ms NMS per image at shape (1, 3, 640, 640)\n",
      "YOLOv5  2022-5-3 torch 1.11.0+cu113 CUDA:0 (NVIDIA GeForce RTX 3060, 12288MiB)\n",
      "\n"
     ]
    },
    {
     "name": "stdout",
     "output_type": "stream",
     "text": [
      "face bounding box coordinates: {'x_tl': 183, 'y_tl': 62, 'x_br': 227, 'y_br': 10}\n"
     ]
    },
    {
     "name": "stderr",
     "output_type": "stream",
     "text": [
      "Fusing layers... \n",
      "Model summary: 290 layers, 20852934 parameters, 0 gradients, 47.9 GFLOPs\n",
      "Speed: 0.0ms pre-process, 56.0ms inference, 0.0ms NMS per image at shape (1, 3, 640, 640)\n",
      "YOLOv5  2022-5-3 torch 1.11.0+cu113 CUDA:0 (NVIDIA GeForce RTX 3060, 12288MiB)\n",
      "\n"
     ]
    },
    {
     "name": "stdout",
     "output_type": "stream",
     "text": [
      "face bounding box coordinates: {'x_tl': 0, 'y_tl': 0, 'x_br': 0, 'y_br': 0}\n"
     ]
    },
    {
     "name": "stderr",
     "output_type": "stream",
     "text": [
      "Fusing layers... \n",
      "Model summary: 290 layers, 20852934 parameters, 0 gradients, 47.9 GFLOPs\n",
      "Speed: 3.0ms pre-process, 87.0ms inference, 4.0ms NMS per image at shape (1, 3, 640, 640)\n",
      "YOLOv5  2022-5-3 torch 1.11.0+cu113 CUDA:0 (NVIDIA GeForce RTX 3060, 12288MiB)\n",
      "\n"
     ]
    },
    {
     "name": "stdout",
     "output_type": "stream",
     "text": [
      "face bounding box coordinates: {'x_tl': 90, 'y_tl': 101, 'x_br': 137, 'y_br': 25}\n"
     ]
    },
    {
     "name": "stderr",
     "output_type": "stream",
     "text": [
      "Fusing layers... \n",
      "Model summary: 290 layers, 20852934 parameters, 0 gradients, 47.9 GFLOPs\n",
      "Speed: 0.0ms pre-process, 88.0ms inference, 6.0ms NMS per image at shape (1, 3, 640, 640)\n",
      "YOLOv5  2022-5-3 torch 1.11.0+cu113 CUDA:0 (NVIDIA GeForce RTX 3060, 12288MiB)\n",
      "\n"
     ]
    },
    {
     "name": "stdout",
     "output_type": "stream",
     "text": [
      "face bounding box coordinates: {'x_tl': 172, 'y_tl': 121, 'x_br': 261, 'y_br': 14}\n"
     ]
    },
    {
     "name": "stderr",
     "output_type": "stream",
     "text": [
      "Fusing layers... \n",
      "Model summary: 290 layers, 20852934 parameters, 0 gradients, 47.9 GFLOPs\n",
      "Speed: 6.0ms pre-process, 77.0ms inference, 3.0ms NMS per image at shape (1, 3, 640, 640)\n",
      "YOLOv5  2022-5-3 torch 1.11.0+cu113 CUDA:0 (NVIDIA GeForce RTX 3060, 12288MiB)\n",
      "\n"
     ]
    },
    {
     "name": "stdout",
     "output_type": "stream",
     "text": [
      "face bounding box coordinates: {'x_tl': 59, 'y_tl': 122, 'x_br': 151, 'y_br': 0}\n"
     ]
    },
    {
     "name": "stderr",
     "output_type": "stream",
     "text": [
      "Fusing layers... \n",
      "Model summary: 290 layers, 20852934 parameters, 0 gradients, 47.9 GFLOPs\n",
      "Speed: 6.0ms pre-process, 77.0ms inference, 18.0ms NMS per image at shape (1, 3, 640, 640)\n",
      "YOLOv5  2022-5-3 torch 1.11.0+cu113 CUDA:0 (NVIDIA GeForce RTX 3060, 12288MiB)\n",
      "\n"
     ]
    },
    {
     "name": "stdout",
     "output_type": "stream",
     "text": [
      "face bounding box coordinates: {'x_tl': 7, 'y_tl': 115, 'x_br': 105, 'y_br': 11}\n"
     ]
    },
    {
     "name": "stderr",
     "output_type": "stream",
     "text": [
      "Fusing layers... \n",
      "Model summary: 290 layers, 20852934 parameters, 0 gradients, 47.9 GFLOPs\n",
      "Speed: 0.0ms pre-process, 75.0ms inference, 2.0ms NMS per image at shape (1, 3, 640, 640)\n",
      "YOLOv5  2022-5-3 torch 1.11.0+cu113 CUDA:0 (NVIDIA GeForce RTX 3060, 12288MiB)\n",
      "\n"
     ]
    },
    {
     "name": "stdout",
     "output_type": "stream",
     "text": [
      "face bounding box coordinates: {'x_tl': 0, 'y_tl': 0, 'x_br': 0, 'y_br': 0}\n"
     ]
    },
    {
     "name": "stderr",
     "output_type": "stream",
     "text": [
      "Fusing layers... \n",
      "Model summary: 290 layers, 20852934 parameters, 0 gradients, 47.9 GFLOPs\n",
      "Speed: 0.0ms pre-process, 57.0ms inference, 2.0ms NMS per image at shape (1, 3, 640, 640)\n",
      "YOLOv5  2022-5-3 torch 1.11.0+cu113 CUDA:0 (NVIDIA GeForce RTX 3060, 12288MiB)\n",
      "\n"
     ]
    },
    {
     "name": "stdout",
     "output_type": "stream",
     "text": [
      "face bounding box coordinates: {'x_tl': 0, 'y_tl': 0, 'x_br': 0, 'y_br': 0}\n"
     ]
    },
    {
     "name": "stderr",
     "output_type": "stream",
     "text": [
      "Fusing layers... \n",
      "Model summary: 290 layers, 20852934 parameters, 0 gradients, 47.9 GFLOPs\n",
      "Speed: 0.0ms pre-process, 81.0ms inference, 6.0ms NMS per image at shape (1, 3, 640, 640)\n",
      "YOLOv5  2022-5-3 torch 1.11.0+cu113 CUDA:0 (NVIDIA GeForce RTX 3060, 12288MiB)\n",
      "\n"
     ]
    },
    {
     "name": "stdout",
     "output_type": "stream",
     "text": [
      "face bounding box coordinates: {'x_tl': 50, 'y_tl': 95, 'x_br': 130, 'y_br': 2}\n"
     ]
    },
    {
     "name": "stderr",
     "output_type": "stream",
     "text": [
      "Fusing layers... \n",
      "Model summary: 290 layers, 20852934 parameters, 0 gradients, 47.9 GFLOPs\n",
      "Speed: 3.0ms pre-process, 64.0ms inference, 7.0ms NMS per image at shape (1, 3, 640, 640)\n",
      "YOLOv5  2022-5-3 torch 1.11.0+cu113 CUDA:0 (NVIDIA GeForce RTX 3060, 12288MiB)\n",
      "\n"
     ]
    },
    {
     "name": "stdout",
     "output_type": "stream",
     "text": [
      "face bounding box coordinates: {'x_tl': 146, 'y_tl': 168, 'x_br': 298, 'y_br': 0}\n"
     ]
    },
    {
     "name": "stderr",
     "output_type": "stream",
     "text": [
      "Fusing layers... \n",
      "Model summary: 290 layers, 20852934 parameters, 0 gradients, 47.9 GFLOPs\n",
      "Speed: 2.0ms pre-process, 82.0ms inference, 1.0ms NMS per image at shape (1, 3, 640, 640)\n",
      "YOLOv5  2022-5-3 torch 1.11.0+cu113 CUDA:0 (NVIDIA GeForce RTX 3060, 12288MiB)\n",
      "\n"
     ]
    },
    {
     "name": "stdout",
     "output_type": "stream",
     "text": [
      "face bounding box coordinates: {'x_tl': 0, 'y_tl': 0, 'x_br': 0, 'y_br': 0}\n"
     ]
    },
    {
     "name": "stderr",
     "output_type": "stream",
     "text": [
      "Fusing layers... \n",
      "Model summary: 290 layers, 20852934 parameters, 0 gradients, 47.9 GFLOPs\n",
      "Speed: 0.0ms pre-process, 82.0ms inference, 1.0ms NMS per image at shape (1, 3, 640, 640)\n",
      "YOLOv5  2022-5-3 torch 1.11.0+cu113 CUDA:0 (NVIDIA GeForce RTX 3060, 12288MiB)\n",
      "\n"
     ]
    },
    {
     "name": "stdout",
     "output_type": "stream",
     "text": [
      "face bounding box coordinates: {'x_tl': 0, 'y_tl': 0, 'x_br': 0, 'y_br': 0}\n"
     ]
    },
    {
     "name": "stderr",
     "output_type": "stream",
     "text": [
      "Fusing layers... \n",
      "Model summary: 290 layers, 20852934 parameters, 0 gradients, 47.9 GFLOPs\n",
      "Speed: 12.3ms pre-process, 124.7ms inference, 3.0ms NMS per image at shape (1, 3, 640, 640)\n",
      "YOLOv5  2022-5-3 torch 1.11.0+cu113 CUDA:0 (NVIDIA GeForce RTX 3060, 12288MiB)\n",
      "\n"
     ]
    },
    {
     "name": "stdout",
     "output_type": "stream",
     "text": [
      "face bounding box coordinates: {'x_tl': 0, 'y_tl': 0, 'x_br': 0, 'y_br': 0}\n"
     ]
    },
    {
     "name": "stderr",
     "output_type": "stream",
     "text": [
      "Fusing layers... \n",
      "Model summary: 290 layers, 20852934 parameters, 0 gradients, 47.9 GFLOPs\n",
      "Speed: 4.0ms pre-process, 150.1ms inference, 5.9ms NMS per image at shape (1, 3, 640, 640)\n",
      "YOLOv5  2022-5-3 torch 1.11.0+cu113 CUDA:0 (NVIDIA GeForce RTX 3060, 12288MiB)\n",
      "\n"
     ]
    },
    {
     "name": "stdout",
     "output_type": "stream",
     "text": [
      "face bounding box coordinates: {'x_tl': 0, 'y_tl': 0, 'x_br': 0, 'y_br': 0}\n"
     ]
    },
    {
     "name": "stderr",
     "output_type": "stream",
     "text": [
      "Fusing layers... \n",
      "Model summary: 290 layers, 20852934 parameters, 0 gradients, 47.9 GFLOPs\n",
      "Speed: 7.0ms pre-process, 85.1ms inference, 0.0ms NMS per image at shape (1, 3, 640, 640)\n",
      "YOLOv5  2022-5-3 torch 1.11.0+cu113 CUDA:0 (NVIDIA GeForce RTX 3060, 12288MiB)\n",
      "\n"
     ]
    },
    {
     "name": "stdout",
     "output_type": "stream",
     "text": [
      "face bounding box coordinates: {'x_tl': 0, 'y_tl': 0, 'x_br': 0, 'y_br': 0}\n"
     ]
    },
    {
     "name": "stderr",
     "output_type": "stream",
     "text": [
      "Fusing layers... \n",
      "Model summary: 290 layers, 20852934 parameters, 0 gradients, 47.9 GFLOPs\n",
      "Speed: 2.0ms pre-process, 150.0ms inference, 9.0ms NMS per image at shape (1, 3, 640, 640)\n",
      "YOLOv5  2022-5-3 torch 1.11.0+cu113 CUDA:0 (NVIDIA GeForce RTX 3060, 12288MiB)\n",
      "\n"
     ]
    },
    {
     "name": "stdout",
     "output_type": "stream",
     "text": [
      "face bounding box coordinates: {'x_tl': 0, 'y_tl': 0, 'x_br': 0, 'y_br': 0}\n"
     ]
    },
    {
     "name": "stderr",
     "output_type": "stream",
     "text": [
      "Fusing layers... \n",
      "Model summary: 290 layers, 20852934 parameters, 0 gradients, 47.9 GFLOPs\n",
      "Speed: 2.0ms pre-process, 118.0ms inference, 0.0ms NMS per image at shape (1, 3, 640, 640)\n",
      "YOLOv5  2022-5-3 torch 1.11.0+cu113 CUDA:0 (NVIDIA GeForce RTX 3060, 12288MiB)\n",
      "\n"
     ]
    },
    {
     "name": "stdout",
     "output_type": "stream",
     "text": [
      "face bounding box coordinates: {'x_tl': 0, 'y_tl': 0, 'x_br': 0, 'y_br': 0}\n"
     ]
    },
    {
     "name": "stderr",
     "output_type": "stream",
     "text": [
      "Fusing layers... \n",
      "Model summary: 290 layers, 20852934 parameters, 0 gradients, 47.9 GFLOPs\n",
      "Speed: 0.0ms pre-process, 64.1ms inference, 12.9ms NMS per image at shape (1, 3, 640, 640)\n",
      "YOLOv5  2022-5-3 torch 1.11.0+cu113 CUDA:0 (NVIDIA GeForce RTX 3060, 12288MiB)\n",
      "\n"
     ]
    },
    {
     "name": "stdout",
     "output_type": "stream",
     "text": [
      "face bounding box coordinates: {'x_tl': 22, 'y_tl': 144, 'x_br': 116, 'y_br': 1}\n"
     ]
    },
    {
     "name": "stderr",
     "output_type": "stream",
     "text": [
      "Fusing layers... \n",
      "Model summary: 290 layers, 20852934 parameters, 0 gradients, 47.9 GFLOPs\n",
      "Speed: 4.0ms pre-process, 122.0ms inference, 27.0ms NMS per image at shape (1, 3, 640, 640)\n",
      "YOLOv5  2022-5-3 torch 1.11.0+cu113 CUDA:0 (NVIDIA GeForce RTX 3060, 12288MiB)\n",
      "\n"
     ]
    },
    {
     "name": "stdout",
     "output_type": "stream",
     "text": [
      "face bounding box coordinates: {'x_tl': 27, 'y_tl': 72, 'x_br': 75, 'y_br': 0}\n"
     ]
    },
    {
     "name": "stderr",
     "output_type": "stream",
     "text": [
      "Fusing layers... \n",
      "Model summary: 290 layers, 20852934 parameters, 0 gradients, 47.9 GFLOPs\n",
      "Speed: 3.0ms pre-process, 91.0ms inference, 6.0ms NMS per image at shape (1, 3, 640, 640)\n",
      "YOLOv5  2022-5-3 torch 1.11.0+cu113 CUDA:0 (NVIDIA GeForce RTX 3060, 12288MiB)\n",
      "\n"
     ]
    },
    {
     "name": "stdout",
     "output_type": "stream",
     "text": [
      "face bounding box coordinates: {'x_tl': 15, 'y_tl': 100, 'x_br': 88, 'y_br': 4}\n"
     ]
    },
    {
     "name": "stderr",
     "output_type": "stream",
     "text": [
      "Fusing layers... \n",
      "Model summary: 290 layers, 20852934 parameters, 0 gradients, 47.9 GFLOPs\n",
      "Speed: 3.0ms pre-process, 114.0ms inference, 1.0ms NMS per image at shape (1, 3, 640, 640)\n",
      "YOLOv5  2022-5-3 torch 1.11.0+cu113 CUDA:0 (NVIDIA GeForce RTX 3060, 12288MiB)\n",
      "\n"
     ]
    },
    {
     "name": "stdout",
     "output_type": "stream",
     "text": [
      "face bounding box coordinates: {'x_tl': 47, 'y_tl': 193, 'x_br': 169, 'y_br': 2}\n"
     ]
    },
    {
     "name": "stderr",
     "output_type": "stream",
     "text": [
      "Fusing layers... \n",
      "Model summary: 290 layers, 20852934 parameters, 0 gradients, 47.9 GFLOPs\n",
      "Speed: 1.0ms pre-process, 107.0ms inference, 15.0ms NMS per image at shape (1, 3, 640, 640)\n",
      "YOLOv5  2022-5-3 torch 1.11.0+cu113 CUDA:0 (NVIDIA GeForce RTX 3060, 12288MiB)\n",
      "\n"
     ]
    },
    {
     "name": "stdout",
     "output_type": "stream",
     "text": [
      "face bounding box coordinates: {'x_tl': 2, 'y_tl': 211, 'x_br': 147, 'y_br': 2}\n"
     ]
    },
    {
     "name": "stderr",
     "output_type": "stream",
     "text": [
      "Fusing layers... \n",
      "Model summary: 290 layers, 20852934 parameters, 0 gradients, 47.9 GFLOPs\n",
      "Speed: 1.0ms pre-process, 90.0ms inference, 13.0ms NMS per image at shape (1, 3, 640, 640)\n",
      "YOLOv5  2022-5-3 torch 1.11.0+cu113 CUDA:0 (NVIDIA GeForce RTX 3060, 12288MiB)\n",
      "\n"
     ]
    },
    {
     "name": "stdout",
     "output_type": "stream",
     "text": [
      "face bounding box coordinates: {'x_tl': 39, 'y_tl': 166, 'x_br': 263, 'y_br': 0}\n"
     ]
    },
    {
     "name": "stderr",
     "output_type": "stream",
     "text": [
      "Fusing layers... \n",
      "Model summary: 290 layers, 20852934 parameters, 0 gradients, 47.9 GFLOPs\n",
      "Speed: 0.0ms pre-process, 100.0ms inference, 9.0ms NMS per image at shape (1, 3, 640, 640)\n",
      "YOLOv5  2022-5-3 torch 1.11.0+cu113 CUDA:0 (NVIDIA GeForce RTX 3060, 12288MiB)\n",
      "\n"
     ]
    },
    {
     "name": "stdout",
     "output_type": "stream",
     "text": [
      "face bounding box coordinates: {'x_tl': 37, 'y_tl': 193, 'x_br': 219, 'y_br': 0}\n"
     ]
    },
    {
     "name": "stderr",
     "output_type": "stream",
     "text": [
      "Fusing layers... \n",
      "Model summary: 290 layers, 20852934 parameters, 0 gradients, 47.9 GFLOPs\n",
      "Speed: 5.0ms pre-process, 113.0ms inference, 3.0ms NMS per image at shape (1, 3, 640, 640)\n",
      "YOLOv5  2022-5-3 torch 1.11.0+cu113 CUDA:0 (NVIDIA GeForce RTX 3060, 12288MiB)\n",
      "\n"
     ]
    },
    {
     "name": "stdout",
     "output_type": "stream",
     "text": [
      "face bounding box coordinates: {'x_tl': 0, 'y_tl': 0, 'x_br': 0, 'y_br': 0}\n"
     ]
    },
    {
     "name": "stderr",
     "output_type": "stream",
     "text": [
      "Fusing layers... \n",
      "Model summary: 290 layers, 20852934 parameters, 0 gradients, 47.9 GFLOPs\n",
      "Speed: 3.0ms pre-process, 79.0ms inference, 4.0ms NMS per image at shape (1, 3, 640, 640)\n",
      "YOLOv5  2022-5-3 torch 1.11.0+cu113 CUDA:0 (NVIDIA GeForce RTX 3060, 12288MiB)\n",
      "\n"
     ]
    },
    {
     "name": "stdout",
     "output_type": "stream",
     "text": [
      "face bounding box coordinates: {'x_tl': 0, 'y_tl': 0, 'x_br': 0, 'y_br': 0}\n"
     ]
    },
    {
     "name": "stderr",
     "output_type": "stream",
     "text": [
      "Fusing layers... \n",
      "Model summary: 290 layers, 20852934 parameters, 0 gradients, 47.9 GFLOPs\n",
      "Speed: 0.0ms pre-process, 136.0ms inference, 1.0ms NMS per image at shape (1, 3, 640, 640)\n",
      "YOLOv5  2022-5-3 torch 1.11.0+cu113 CUDA:0 (NVIDIA GeForce RTX 3060, 12288MiB)\n",
      "\n"
     ]
    },
    {
     "name": "stdout",
     "output_type": "stream",
     "text": [
      "face bounding box coordinates: {'x_tl': 0, 'y_tl': 0, 'x_br': 0, 'y_br': 0}\n"
     ]
    },
    {
     "name": "stderr",
     "output_type": "stream",
     "text": [
      "Fusing layers... \n",
      "Model summary: 290 layers, 20852934 parameters, 0 gradients, 47.9 GFLOPs\n",
      "Speed: 6.0ms pre-process, 95.0ms inference, 3.0ms NMS per image at shape (1, 3, 640, 640)\n",
      "YOLOv5  2022-5-3 torch 1.11.0+cu113 CUDA:0 (NVIDIA GeForce RTX 3060, 12288MiB)\n",
      "\n"
     ]
    },
    {
     "name": "stdout",
     "output_type": "stream",
     "text": [
      "face bounding box coordinates: {'x_tl': 0, 'y_tl': 0, 'x_br': 0, 'y_br': 0}\n"
     ]
    },
    {
     "name": "stderr",
     "output_type": "stream",
     "text": [
      "Fusing layers... \n",
      "Model summary: 290 layers, 20852934 parameters, 0 gradients, 47.9 GFLOPs\n",
      "Speed: 0.0ms pre-process, 69.0ms inference, 3.0ms NMS per image at shape (1, 3, 640, 640)\n",
      "YOLOv5  2022-5-3 torch 1.11.0+cu113 CUDA:0 (NVIDIA GeForce RTX 3060, 12288MiB)\n",
      "\n"
     ]
    },
    {
     "name": "stdout",
     "output_type": "stream",
     "text": [
      "face bounding box coordinates: {'x_tl': 15, 'y_tl': 224, 'x_br': 181, 'y_br': 0}\n"
     ]
    },
    {
     "name": "stderr",
     "output_type": "stream",
     "text": [
      "Fusing layers... \n",
      "Model summary: 290 layers, 20852934 parameters, 0 gradients, 47.9 GFLOPs\n",
      "Speed: 0.0ms pre-process, 77.0ms inference, 18.0ms NMS per image at shape (1, 3, 640, 640)\n",
      "YOLOv5  2022-5-3 torch 1.11.0+cu113 CUDA:0 (NVIDIA GeForce RTX 3060, 12288MiB)\n",
      "\n"
     ]
    },
    {
     "name": "stdout",
     "output_type": "stream",
     "text": [
      "face bounding box coordinates: {'x_tl': 9, 'y_tl': 262, 'x_br': 166, 'y_br': 1}\n"
     ]
    },
    {
     "name": "stderr",
     "output_type": "stream",
     "text": [
      "Fusing layers... \n",
      "Model summary: 290 layers, 20852934 parameters, 0 gradients, 47.9 GFLOPs\n",
      "Speed: 6.0ms pre-process, 118.0ms inference, 3.0ms NMS per image at shape (1, 3, 640, 640)\n",
      "YOLOv5  2022-5-3 torch 1.11.0+cu113 CUDA:0 (NVIDIA GeForce RTX 3060, 12288MiB)\n",
      "\n"
     ]
    },
    {
     "name": "stdout",
     "output_type": "stream",
     "text": [
      "face bounding box coordinates: {'x_tl': 0, 'y_tl': 0, 'x_br': 0, 'y_br': 0}\n"
     ]
    },
    {
     "name": "stderr",
     "output_type": "stream",
     "text": [
      "Fusing layers... \n",
      "Model summary: 290 layers, 20852934 parameters, 0 gradients, 47.9 GFLOPs\n",
      "Speed: 13.0ms pre-process, 215.0ms inference, 0.0ms NMS per image at shape (1, 3, 640, 640)\n",
      "YOLOv5  2022-5-3 torch 1.11.0+cu113 CUDA:0 (NVIDIA GeForce RTX 3060, 12288MiB)\n",
      "\n"
     ]
    },
    {
     "name": "stdout",
     "output_type": "stream",
     "text": [
      "face bounding box coordinates: {'x_tl': 0, 'y_tl': 0, 'x_br': 0, 'y_br': 0}\n"
     ]
    },
    {
     "name": "stderr",
     "output_type": "stream",
     "text": [
      "Fusing layers... \n",
      "Model summary: 290 layers, 20852934 parameters, 0 gradients, 47.9 GFLOPs\n",
      "Speed: 3.0ms pre-process, 114.0ms inference, 2.0ms NMS per image at shape (1, 3, 640, 640)\n",
      "YOLOv5  2022-5-3 torch 1.11.0+cu113 CUDA:0 (NVIDIA GeForce RTX 3060, 12288MiB)\n",
      "\n"
     ]
    },
    {
     "name": "stdout",
     "output_type": "stream",
     "text": [
      "face bounding box coordinates: {'x_tl': 0, 'y_tl': 0, 'x_br': 0, 'y_br': 0}\n"
     ]
    },
    {
     "name": "stderr",
     "output_type": "stream",
     "text": [
      "Fusing layers... \n",
      "Model summary: 290 layers, 20852934 parameters, 0 gradients, 47.9 GFLOPs\n",
      "Speed: 1.0ms pre-process, 77.0ms inference, 7.0ms NMS per image at shape (1, 3, 640, 640)\n",
      "YOLOv5  2022-5-3 torch 1.11.0+cu113 CUDA:0 (NVIDIA GeForce RTX 3060, 12288MiB)\n",
      "\n"
     ]
    },
    {
     "name": "stdout",
     "output_type": "stream",
     "text": [
      "face bounding box coordinates: {'x_tl': 130, 'y_tl': 124, 'x_br': 204, 'y_br': 17}\n"
     ]
    },
    {
     "name": "stderr",
     "output_type": "stream",
     "text": [
      "Fusing layers... \n",
      "Model summary: 290 layers, 20852934 parameters, 0 gradients, 47.9 GFLOPs\n",
      "Speed: 5.0ms pre-process, 120.0ms inference, 4.0ms NMS per image at shape (1, 3, 640, 640)\n",
      "YOLOv5  2022-5-3 torch 1.11.0+cu113 CUDA:0 (NVIDIA GeForce RTX 3060, 12288MiB)\n",
      "\n"
     ]
    },
    {
     "name": "stdout",
     "output_type": "stream",
     "text": [
      "face bounding box coordinates: {'x_tl': 119, 'y_tl': 85, 'x_br': 179, 'y_br': 3}\n"
     ]
    },
    {
     "name": "stderr",
     "output_type": "stream",
     "text": [
      "Fusing layers... \n",
      "Model summary: 290 layers, 20852934 parameters, 0 gradients, 47.9 GFLOPs\n",
      "Speed: 9.4ms pre-process, 155.6ms inference, 9.0ms NMS per image at shape (1, 3, 640, 640)\n",
      "YOLOv5  2022-5-3 torch 1.11.0+cu113 CUDA:0 (NVIDIA GeForce RTX 3060, 12288MiB)\n",
      "\n"
     ]
    },
    {
     "name": "stdout",
     "output_type": "stream",
     "text": [
      "face bounding box coordinates: {'x_tl': 29, 'y_tl': 83, 'x_br': 81, 'y_br': 3}\n"
     ]
    },
    {
     "name": "stderr",
     "output_type": "stream",
     "text": [
      "Fusing layers... \n",
      "Model summary: 290 layers, 20852934 parameters, 0 gradients, 47.9 GFLOPs\n",
      "Speed: 1.0ms pre-process, 104.0ms inference, 12.0ms NMS per image at shape (1, 3, 640, 640)\n",
      "YOLOv5  2022-5-3 torch 1.11.0+cu113 CUDA:0 (NVIDIA GeForce RTX 3060, 12288MiB)\n",
      "\n"
     ]
    },
    {
     "name": "stdout",
     "output_type": "stream",
     "text": [
      "face bounding box coordinates: {'x_tl': 68, 'y_tl': 139, 'x_br': 159, 'y_br': 5}\n"
     ]
    },
    {
     "name": "stderr",
     "output_type": "stream",
     "text": [
      "Fusing layers... \n",
      "Model summary: 290 layers, 20852934 parameters, 0 gradients, 47.9 GFLOPs\n",
      "Speed: 3.0ms pre-process, 72.0ms inference, 7.0ms NMS per image at shape (1, 3, 640, 640)\n",
      "YOLOv5  2022-5-3 torch 1.11.0+cu113 CUDA:0 (NVIDIA GeForce RTX 3060, 12288MiB)\n",
      "\n"
     ]
    },
    {
     "name": "stdout",
     "output_type": "stream",
     "text": [
      "face bounding box coordinates: {'x_tl': 51, 'y_tl': 163, 'x_br': 215, 'y_br': 0}\n"
     ]
    },
    {
     "name": "stderr",
     "output_type": "stream",
     "text": [
      "Fusing layers... \n",
      "Model summary: 290 layers, 20852934 parameters, 0 gradients, 47.9 GFLOPs\n",
      "Speed: 6.0ms pre-process, 84.0ms inference, 7.0ms NMS per image at shape (1, 3, 640, 640)\n",
      "YOLOv5  2022-5-3 torch 1.11.0+cu113 CUDA:0 (NVIDIA GeForce RTX 3060, 12288MiB)\n",
      "\n"
     ]
    },
    {
     "name": "stdout",
     "output_type": "stream",
     "text": [
      "face bounding box coordinates: {'x_tl': 91, 'y_tl': 139, 'x_br': 178, 'y_br': 1}\n"
     ]
    },
    {
     "name": "stderr",
     "output_type": "stream",
     "text": [
      "Fusing layers... \n",
      "Model summary: 290 layers, 20852934 parameters, 0 gradients, 47.9 GFLOPs\n",
      "Speed: 3.0ms pre-process, 95.0ms inference, 3.0ms NMS per image at shape (1, 3, 640, 640)\n",
      "YOLOv5  2022-5-3 torch 1.11.0+cu113 CUDA:0 (NVIDIA GeForce RTX 3060, 12288MiB)\n",
      "\n"
     ]
    },
    {
     "name": "stdout",
     "output_type": "stream",
     "text": [
      "face bounding box coordinates: {'x_tl': 37, 'y_tl': 178, 'x_br': 145, 'y_br': 12}\n"
     ]
    },
    {
     "name": "stderr",
     "output_type": "stream",
     "text": [
      "Fusing layers... \n",
      "Model summary: 290 layers, 20852934 parameters, 0 gradients, 47.9 GFLOPs\n",
      "Speed: 12.1ms pre-process, 62.9ms inference, 7.0ms NMS per image at shape (1, 3, 640, 640)\n",
      "YOLOv5  2022-5-3 torch 1.11.0+cu113 CUDA:0 (NVIDIA GeForce RTX 3060, 12288MiB)\n",
      "\n"
     ]
    },
    {
     "name": "stdout",
     "output_type": "stream",
     "text": [
      "face bounding box coordinates: {'x_tl': 86, 'y_tl': 162, 'x_br': 230, 'y_br': 0}\n"
     ]
    },
    {
     "name": "stderr",
     "output_type": "stream",
     "text": [
      "Fusing layers... \n",
      "Model summary: 290 layers, 20852934 parameters, 0 gradients, 47.9 GFLOPs\n",
      "Speed: 6.0ms pre-process, 102.0ms inference, 10.0ms NMS per image at shape (1, 3, 640, 640)\n",
      "YOLOv5  2022-5-3 torch 1.11.0+cu113 CUDA:0 (NVIDIA GeForce RTX 3060, 12288MiB)\n",
      "\n"
     ]
    },
    {
     "name": "stdout",
     "output_type": "stream",
     "text": [
      "face bounding box coordinates: {'x_tl': 11, 'y_tl': 97, 'x_br': 91, 'y_br': 0}\n"
     ]
    },
    {
     "name": "stderr",
     "output_type": "stream",
     "text": [
      "Fusing layers... \n",
      "Model summary: 290 layers, 20852934 parameters, 0 gradients, 47.9 GFLOPs\n",
      "Speed: 2.0ms pre-process, 98.0ms inference, 10.0ms NMS per image at shape (1, 3, 640, 640)\n",
      "YOLOv5  2022-5-3 torch 1.11.0+cu113 CUDA:0 (NVIDIA GeForce RTX 3060, 12288MiB)\n",
      "\n"
     ]
    },
    {
     "name": "stdout",
     "output_type": "stream",
     "text": [
      "face bounding box coordinates: {'x_tl': 17, 'y_tl': 92, 'x_br': 87, 'y_br': 0}\n"
     ]
    },
    {
     "name": "stderr",
     "output_type": "stream",
     "text": [
      "Fusing layers... \n",
      "Model summary: 290 layers, 20852934 parameters, 0 gradients, 47.9 GFLOPs\n",
      "Speed: 3.0ms pre-process, 139.0ms inference, 15.0ms NMS per image at shape (1, 3, 640, 640)\n",
      "YOLOv5  2022-5-3 torch 1.11.0+cu113 CUDA:0 (NVIDIA GeForce RTX 3060, 12288MiB)\n",
      "\n"
     ]
    },
    {
     "name": "stdout",
     "output_type": "stream",
     "text": [
      "face bounding box coordinates: {'x_tl': 0, 'y_tl': 76, 'x_br': 37, 'y_br': 1}\n"
     ]
    },
    {
     "name": "stderr",
     "output_type": "stream",
     "text": [
      "Fusing layers... \n",
      "Model summary: 290 layers, 20852934 parameters, 0 gradients, 47.9 GFLOPs\n",
      "Speed: 3.0ms pre-process, 101.0ms inference, 12.0ms NMS per image at shape (1, 3, 640, 640)\n",
      "YOLOv5  2022-5-3 torch 1.11.0+cu113 CUDA:0 (NVIDIA GeForce RTX 3060, 12288MiB)\n",
      "\n"
     ]
    },
    {
     "name": "stdout",
     "output_type": "stream",
     "text": [
      "face bounding box coordinates: {'x_tl': 141, 'y_tl': 72, 'x_br': 186, 'y_br': 6}\n"
     ]
    },
    {
     "name": "stderr",
     "output_type": "stream",
     "text": [
      "Fusing layers... \n",
      "Model summary: 290 layers, 20852934 parameters, 0 gradients, 47.9 GFLOPs\n",
      "Speed: 1.0ms pre-process, 73.0ms inference, 3.0ms NMS per image at shape (1, 3, 640, 640)\n",
      "YOLOv5  2022-5-3 torch 1.11.0+cu113 CUDA:0 (NVIDIA GeForce RTX 3060, 12288MiB)\n",
      "\n"
     ]
    },
    {
     "name": "stdout",
     "output_type": "stream",
     "text": [
      "face bounding box coordinates: {'x_tl': 0, 'y_tl': 0, 'x_br': 0, 'y_br': 0}\n"
     ]
    },
    {
     "name": "stderr",
     "output_type": "stream",
     "text": [
      "Fusing layers... \n",
      "Model summary: 290 layers, 20852934 parameters, 0 gradients, 47.9 GFLOPs\n",
      "Speed: 8.0ms pre-process, 77.0ms inference, 14.2ms NMS per image at shape (1, 3, 640, 640)\n",
      "YOLOv5  2022-5-3 torch 1.11.0+cu113 CUDA:0 (NVIDIA GeForce RTX 3060, 12288MiB)\n",
      "\n"
     ]
    },
    {
     "name": "stdout",
     "output_type": "stream",
     "text": [
      "face bounding box coordinates: {'x_tl': 94, 'y_tl': 61, 'x_br': 137, 'y_br': 5}\n"
     ]
    },
    {
     "name": "stderr",
     "output_type": "stream",
     "text": [
      "Fusing layers... \n",
      "Model summary: 290 layers, 20852934 parameters, 0 gradients, 47.9 GFLOPs\n",
      "Speed: 4.0ms pre-process, 122.0ms inference, 6.0ms NMS per image at shape (1, 3, 640, 640)\n",
      "YOLOv5  2022-5-3 torch 1.11.0+cu113 CUDA:0 (NVIDIA GeForce RTX 3060, 12288MiB)\n",
      "\n"
     ]
    },
    {
     "name": "stdout",
     "output_type": "stream",
     "text": [
      "face bounding box coordinates: {'x_tl': 0, 'y_tl': 0, 'x_br': 0, 'y_br': 0}\n"
     ]
    },
    {
     "name": "stderr",
     "output_type": "stream",
     "text": [
      "Fusing layers... \n",
      "Model summary: 290 layers, 20852934 parameters, 0 gradients, 47.9 GFLOPs\n",
      "Speed: 3.0ms pre-process, 118.0ms inference, 6.0ms NMS per image at shape (1, 3, 640, 640)\n",
      "YOLOv5  2022-5-3 torch 1.11.0+cu113 CUDA:0 (NVIDIA GeForce RTX 3060, 12288MiB)\n",
      "\n"
     ]
    },
    {
     "name": "stdout",
     "output_type": "stream",
     "text": [
      "face bounding box coordinates: {'x_tl': 0, 'y_tl': 0, 'x_br': 0, 'y_br': 0}\n"
     ]
    },
    {
     "name": "stderr",
     "output_type": "stream",
     "text": [
      "Fusing layers... \n",
      "Model summary: 290 layers, 20852934 parameters, 0 gradients, 47.9 GFLOPs\n",
      "Speed: 6.0ms pre-process, 72.0ms inference, 3.0ms NMS per image at shape (1, 3, 640, 640)\n",
      "YOLOv5  2022-5-3 torch 1.11.0+cu113 CUDA:0 (NVIDIA GeForce RTX 3060, 12288MiB)\n",
      "\n"
     ]
    },
    {
     "name": "stdout",
     "output_type": "stream",
     "text": [
      "face bounding box coordinates: {'x_tl': 1, 'y_tl': 258, 'x_br': 185, 'y_br': 0}\n"
     ]
    },
    {
     "name": "stderr",
     "output_type": "stream",
     "text": [
      "Fusing layers... \n",
      "Model summary: 290 layers, 20852934 parameters, 0 gradients, 47.9 GFLOPs\n",
      "Speed: 2.0ms pre-process, 68.0ms inference, 0.0ms NMS per image at shape (1, 3, 640, 640)\n",
      "YOLOv5  2022-5-3 torch 1.11.0+cu113 CUDA:0 (NVIDIA GeForce RTX 3060, 12288MiB)\n",
      "\n"
     ]
    },
    {
     "name": "stdout",
     "output_type": "stream",
     "text": [
      "face bounding box coordinates: {'x_tl': 0, 'y_tl': 0, 'x_br': 0, 'y_br': 0}\n"
     ]
    },
    {
     "name": "stderr",
     "output_type": "stream",
     "text": [
      "Fusing layers... \n",
      "Model summary: 290 layers, 20852934 parameters, 0 gradients, 47.9 GFLOPs\n",
      "Speed: 3.3ms pre-process, 76.7ms inference, 9.0ms NMS per image at shape (1, 3, 640, 640)\n",
      "YOLOv5  2022-5-3 torch 1.11.0+cu113 CUDA:0 (NVIDIA GeForce RTX 3060, 12288MiB)\n",
      "\n"
     ]
    },
    {
     "name": "stdout",
     "output_type": "stream",
     "text": [
      "face bounding box coordinates: {'x_tl': 103, 'y_tl': 146, 'x_br': 197, 'y_br': 40}\n"
     ]
    },
    {
     "name": "stderr",
     "output_type": "stream",
     "text": [
      "Fusing layers... \n",
      "Model summary: 290 layers, 20852934 parameters, 0 gradients, 47.9 GFLOPs\n",
      "Speed: 9.4ms pre-process, 144.6ms inference, 1.0ms NMS per image at shape (1, 3, 640, 640)\n",
      "YOLOv5  2022-5-3 torch 1.11.0+cu113 CUDA:0 (NVIDIA GeForce RTX 3060, 12288MiB)\n",
      "\n"
     ]
    },
    {
     "name": "stdout",
     "output_type": "stream",
     "text": [
      "face bounding box coordinates: {'x_tl': 0, 'y_tl': 0, 'x_br': 0, 'y_br': 0}\n"
     ]
    },
    {
     "name": "stderr",
     "output_type": "stream",
     "text": [
      "Fusing layers... \n",
      "Model summary: 290 layers, 20852934 parameters, 0 gradients, 47.9 GFLOPs\n",
      "Speed: 0.0ms pre-process, 109.0ms inference, 12.0ms NMS per image at shape (1, 3, 640, 640)\n",
      "YOLOv5  2022-5-3 torch 1.11.0+cu113 CUDA:0 (NVIDIA GeForce RTX 3060, 12288MiB)\n",
      "\n"
     ]
    },
    {
     "name": "stdout",
     "output_type": "stream",
     "text": [
      "face bounding box coordinates: {'x_tl': 135, 'y_tl': 67, 'x_br': 201, 'y_br': 3}\n"
     ]
    },
    {
     "name": "stderr",
     "output_type": "stream",
     "text": [
      "Fusing layers... \n",
      "Model summary: 290 layers, 20852934 parameters, 0 gradients, 47.9 GFLOPs\n",
      "Speed: 1.0ms pre-process, 160.0ms inference, 1.0ms NMS per image at shape (1, 3, 640, 640)\n",
      "YOLOv5  2022-5-3 torch 1.11.0+cu113 CUDA:0 (NVIDIA GeForce RTX 3060, 12288MiB)\n",
      "\n"
     ]
    },
    {
     "name": "stdout",
     "output_type": "stream",
     "text": [
      "face bounding box coordinates: {'x_tl': 0, 'y_tl': 0, 'x_br': 0, 'y_br': 0}\n"
     ]
    },
    {
     "name": "stderr",
     "output_type": "stream",
     "text": [
      "Fusing layers... \n",
      "Model summary: 290 layers, 20852934 parameters, 0 gradients, 47.9 GFLOPs\n",
      "Speed: 1.0ms pre-process, 114.0ms inference, 18.0ms NMS per image at shape (1, 3, 640, 640)\n",
      "YOLOv5  2022-5-3 torch 1.11.0+cu113 CUDA:0 (NVIDIA GeForce RTX 3060, 12288MiB)\n",
      "\n"
     ]
    },
    {
     "name": "stdout",
     "output_type": "stream",
     "text": [
      "face bounding box coordinates: {'x_tl': 198, 'y_tl': 72, 'x_br': 250, 'y_br': 0}\n"
     ]
    },
    {
     "name": "stderr",
     "output_type": "stream",
     "text": [
      "Fusing layers... \n",
      "Model summary: 290 layers, 20852934 parameters, 0 gradients, 47.9 GFLOPs\n",
      "Speed: 1.0ms pre-process, 84.0ms inference, 6.0ms NMS per image at shape (1, 3, 640, 640)\n",
      "YOLOv5  2022-5-3 torch 1.11.0+cu113 CUDA:0 (NVIDIA GeForce RTX 3060, 12288MiB)\n",
      "\n"
     ]
    },
    {
     "name": "stdout",
     "output_type": "stream",
     "text": [
      "face bounding box coordinates: {'x_tl': 170, 'y_tl': 168, 'x_br': 300, 'y_br': 0}\n"
     ]
    },
    {
     "name": "stderr",
     "output_type": "stream",
     "text": [
      "Fusing layers... \n",
      "Model summary: 290 layers, 20852934 parameters, 0 gradients, 47.9 GFLOPs\n",
      "Speed: 2.0ms pre-process, 123.0ms inference, 3.0ms NMS per image at shape (1, 3, 640, 640)\n",
      "YOLOv5  2022-5-3 torch 1.11.0+cu113 CUDA:0 (NVIDIA GeForce RTX 3060, 12288MiB)\n",
      "\n"
     ]
    },
    {
     "name": "stdout",
     "output_type": "stream",
     "text": [
      "face bounding box coordinates: {'x_tl': 38, 'y_tl': 150, 'x_br': 127, 'y_br': 8}\n"
     ]
    },
    {
     "name": "stderr",
     "output_type": "stream",
     "text": [
      "Fusing layers... \n",
      "Model summary: 290 layers, 20852934 parameters, 0 gradients, 47.9 GFLOPs\n",
      "Speed: 5.0ms pre-process, 127.0ms inference, 3.0ms NMS per image at shape (1, 3, 640, 640)\n",
      "YOLOv5  2022-5-3 torch 1.11.0+cu113 CUDA:0 (NVIDIA GeForce RTX 3060, 12288MiB)\n",
      "\n"
     ]
    },
    {
     "name": "stdout",
     "output_type": "stream",
     "text": [
      "face bounding box coordinates: {'x_tl': 0, 'y_tl': 0, 'x_br': 0, 'y_br': 0}\n"
     ]
    },
    {
     "name": "stderr",
     "output_type": "stream",
     "text": [
      "Fusing layers... \n",
      "Model summary: 290 layers, 20852934 parameters, 0 gradients, 47.9 GFLOPs\n",
      "Speed: 3.0ms pre-process, 134.0ms inference, 2.0ms NMS per image at shape (1, 3, 640, 640)\n",
      "YOLOv5  2022-5-3 torch 1.11.0+cu113 CUDA:0 (NVIDIA GeForce RTX 3060, 12288MiB)\n",
      "\n"
     ]
    },
    {
     "name": "stdout",
     "output_type": "stream",
     "text": [
      "face bounding box coordinates: {'x_tl': 0, 'y_tl': 0, 'x_br': 0, 'y_br': 0}\n"
     ]
    },
    {
     "name": "stderr",
     "output_type": "stream",
     "text": [
      "Fusing layers... \n",
      "Model summary: 290 layers, 20852934 parameters, 0 gradients, 47.9 GFLOPs\n",
      "Speed: 6.0ms pre-process, 141.0ms inference, 0.0ms NMS per image at shape (1, 3, 640, 640)\n",
      "YOLOv5  2022-5-3 torch 1.11.0+cu113 CUDA:0 (NVIDIA GeForce RTX 3060, 12288MiB)\n",
      "\n"
     ]
    },
    {
     "name": "stdout",
     "output_type": "stream",
     "text": [
      "face bounding box coordinates: {'x_tl': 0, 'y_tl': 0, 'x_br': 0, 'y_br': 0}\n"
     ]
    },
    {
     "name": "stderr",
     "output_type": "stream",
     "text": [
      "Fusing layers... \n",
      "Model summary: 290 layers, 20852934 parameters, 0 gradients, 47.9 GFLOPs\n",
      "Speed: 6.0ms pre-process, 75.0ms inference, 9.2ms NMS per image at shape (1, 3, 640, 640)\n",
      "YOLOv5  2022-5-3 torch 1.11.0+cu113 CUDA:0 (NVIDIA GeForce RTX 3060, 12288MiB)\n",
      "\n"
     ]
    },
    {
     "name": "stdout",
     "output_type": "stream",
     "text": [
      "face bounding box coordinates: {'x_tl': 115, 'y_tl': 86, 'x_br': 178, 'y_br': 6}\n"
     ]
    },
    {
     "name": "stderr",
     "output_type": "stream",
     "text": [
      "Fusing layers... \n",
      "Model summary: 290 layers, 20852934 parameters, 0 gradients, 47.9 GFLOPs\n",
      "Speed: 0.0ms pre-process, 82.0ms inference, 15.0ms NMS per image at shape (1, 3, 640, 640)\n",
      "YOLOv5  2022-5-3 torch 1.11.0+cu113 CUDA:0 (NVIDIA GeForce RTX 3060, 12288MiB)\n",
      "\n"
     ]
    },
    {
     "name": "stdout",
     "output_type": "stream",
     "text": [
      "face bounding box coordinates: {'x_tl': 108, 'y_tl': 119, 'x_br': 189, 'y_br': 3}\n"
     ]
    },
    {
     "name": "stderr",
     "output_type": "stream",
     "text": [
      "Fusing layers... \n",
      "Model summary: 290 layers, 20852934 parameters, 0 gradients, 47.9 GFLOPs\n",
      "Speed: 0.0ms pre-process, 99.0ms inference, 3.0ms NMS per image at shape (1, 3, 640, 640)\n",
      "YOLOv5  2022-5-3 torch 1.11.0+cu113 CUDA:0 (NVIDIA GeForce RTX 3060, 12288MiB)\n",
      "\n"
     ]
    },
    {
     "name": "stdout",
     "output_type": "stream",
     "text": [
      "face bounding box coordinates: {'x_tl': 0, 'y_tl': 0, 'x_br': 0, 'y_br': 0}\n"
     ]
    },
    {
     "name": "stderr",
     "output_type": "stream",
     "text": [
      "Fusing layers... \n",
      "Model summary: 290 layers, 20852934 parameters, 0 gradients, 47.9 GFLOPs\n",
      "Speed: 3.0ms pre-process, 73.0ms inference, 12.0ms NMS per image at shape (1, 3, 640, 640)\n",
      "YOLOv5  2022-5-3 torch 1.11.0+cu113 CUDA:0 (NVIDIA GeForce RTX 3060, 12288MiB)\n",
      "\n"
     ]
    },
    {
     "name": "stdout",
     "output_type": "stream",
     "text": [
      "face bounding box coordinates: {'x_tl': 176, 'y_tl': 135, 'x_br': 276, 'y_br': 2}\n"
     ]
    },
    {
     "name": "stderr",
     "output_type": "stream",
     "text": [
      "Fusing layers... \n",
      "Model summary: 290 layers, 20852934 parameters, 0 gradients, 47.9 GFLOPs\n",
      "Speed: 0.0ms pre-process, 90.0ms inference, 7.0ms NMS per image at shape (1, 3, 640, 640)\n",
      "YOLOv5  2022-5-3 torch 1.11.0+cu113 CUDA:0 (NVIDIA GeForce RTX 3060, 12288MiB)\n",
      "\n"
     ]
    },
    {
     "name": "stdout",
     "output_type": "stream",
     "text": [
      "face bounding box coordinates: {'x_tl': 2, 'y_tl': 154, 'x_br': 148, 'y_br': 0}\n"
     ]
    },
    {
     "name": "stderr",
     "output_type": "stream",
     "text": [
      "Fusing layers... \n",
      "Model summary: 290 layers, 20852934 parameters, 0 gradients, 47.9 GFLOPs\n",
      "Speed: 0.0ms pre-process, 123.0ms inference, 6.0ms NMS per image at shape (1, 3, 640, 640)\n",
      "YOLOv5  2022-5-3 torch 1.11.0+cu113 CUDA:0 (NVIDIA GeForce RTX 3060, 12288MiB)\n",
      "\n"
     ]
    },
    {
     "name": "stdout",
     "output_type": "stream",
     "text": [
      "face bounding box coordinates: {'x_tl': 0, 'y_tl': 0, 'x_br': 0, 'y_br': 0}\n"
     ]
    },
    {
     "name": "stderr",
     "output_type": "stream",
     "text": [
      "Fusing layers... \n",
      "Model summary: 290 layers, 20852934 parameters, 0 gradients, 47.9 GFLOPs\n",
      "Speed: 3.0ms pre-process, 97.0ms inference, 9.0ms NMS per image at shape (1, 3, 640, 640)\n",
      "YOLOv5  2022-5-3 torch 1.11.0+cu113 CUDA:0 (NVIDIA GeForce RTX 3060, 12288MiB)\n",
      "\n"
     ]
    },
    {
     "name": "stdout",
     "output_type": "stream",
     "text": [
      "face bounding box coordinates: {'x_tl': 97, 'y_tl': 168, 'x_br': 210, 'y_br': 0}\n"
     ]
    },
    {
     "name": "stderr",
     "output_type": "stream",
     "text": [
      "Fusing layers... \n",
      "Model summary: 290 layers, 20852934 parameters, 0 gradients, 47.9 GFLOPs\n",
      "Speed: 3.0ms pre-process, 108.0ms inference, 29.0ms NMS per image at shape (1, 3, 640, 640)\n",
      "YOLOv5  2022-5-3 torch 1.11.0+cu113 CUDA:0 (NVIDIA GeForce RTX 3060, 12288MiB)\n",
      "\n"
     ]
    },
    {
     "name": "stdout",
     "output_type": "stream",
     "text": [
      "face bounding box coordinates: {'x_tl': 11, 'y_tl': 157, 'x_br': 149, 'y_br': 0}\n"
     ]
    },
    {
     "name": "stderr",
     "output_type": "stream",
     "text": [
      "Fusing layers... \n",
      "Model summary: 290 layers, 20852934 parameters, 0 gradients, 47.9 GFLOPs\n",
      "Speed: 6.1ms pre-process, 93.9ms inference, 9.0ms NMS per image at shape (1, 3, 640, 640)\n",
      "YOLOv5  2022-5-3 torch 1.11.0+cu113 CUDA:0 (NVIDIA GeForce RTX 3060, 12288MiB)\n",
      "\n"
     ]
    },
    {
     "name": "stdout",
     "output_type": "stream",
     "text": [
      "face bounding box coordinates: {'x_tl': 22, 'y_tl': 76, 'x_br': 78, 'y_br': 0}\n"
     ]
    },
    {
     "name": "stderr",
     "output_type": "stream",
     "text": [
      "Fusing layers... \n",
      "Model summary: 290 layers, 20852934 parameters, 0 gradients, 47.9 GFLOPs\n",
      "Speed: 3.0ms pre-process, 141.1ms inference, 13.0ms NMS per image at shape (1, 3, 640, 640)\n",
      "YOLOv5  2022-5-3 torch 1.11.0+cu113 CUDA:0 (NVIDIA GeForce RTX 3060, 12288MiB)\n",
      "\n"
     ]
    },
    {
     "name": "stdout",
     "output_type": "stream",
     "text": [
      "face bounding box coordinates: {'x_tl': 23, 'y_tl': 36, 'x_br': 46, 'y_br': 1}\n"
     ]
    },
    {
     "name": "stderr",
     "output_type": "stream",
     "text": [
      "Fusing layers... \n",
      "Model summary: 290 layers, 20852934 parameters, 0 gradients, 47.9 GFLOPs\n",
      "Speed: 6.0ms pre-process, 63.0ms inference, 9.0ms NMS per image at shape (1, 3, 640, 640)\n",
      "YOLOv5  2022-5-3 torch 1.11.0+cu113 CUDA:0 (NVIDIA GeForce RTX 3060, 12288MiB)\n",
      "\n"
     ]
    },
    {
     "name": "stdout",
     "output_type": "stream",
     "text": [
      "face bounding box coordinates: {'x_tl': 16, 'y_tl': 212, 'x_br': 165, 'y_br': 6}\n"
     ]
    },
    {
     "name": "stderr",
     "output_type": "stream",
     "text": [
      "Fusing layers... \n",
      "Model summary: 290 layers, 20852934 parameters, 0 gradients, 47.9 GFLOPs\n",
      "Speed: 1.0ms pre-process, 113.0ms inference, 3.0ms NMS per image at shape (1, 3, 640, 640)\n",
      "YOLOv5  2022-5-3 torch 1.11.0+cu113 CUDA:0 (NVIDIA GeForce RTX 3060, 12288MiB)\n",
      "\n"
     ]
    },
    {
     "name": "stdout",
     "output_type": "stream",
     "text": [
      "face bounding box coordinates: {'x_tl': 0, 'y_tl': 0, 'x_br': 0, 'y_br': 0}\n"
     ]
    },
    {
     "name": "stderr",
     "output_type": "stream",
     "text": [
      "Fusing layers... \n",
      "Model summary: 290 layers, 20852934 parameters, 0 gradients, 47.9 GFLOPs\n",
      "Speed: 1.0ms pre-process, 82.0ms inference, 9.0ms NMS per image at shape (1, 3, 640, 640)\n",
      "YOLOv5  2022-5-3 torch 1.11.0+cu113 CUDA:0 (NVIDIA GeForce RTX 3060, 12288MiB)\n",
      "\n"
     ]
    },
    {
     "name": "stdout",
     "output_type": "stream",
     "text": [
      "face bounding box coordinates: {'x_tl': 35, 'y_tl': 192, 'x_br': 225, 'y_br': 0}\n"
     ]
    },
    {
     "name": "stderr",
     "output_type": "stream",
     "text": [
      "Fusing layers... \n",
      "Model summary: 290 layers, 20852934 parameters, 0 gradients, 47.9 GFLOPs\n",
      "Speed: 3.0ms pre-process, 59.0ms inference, 9.0ms NMS per image at shape (1, 3, 640, 640)\n",
      "YOLOv5  2022-5-3 torch 1.11.0+cu113 CUDA:0 (NVIDIA GeForce RTX 3060, 12288MiB)\n",
      "\n"
     ]
    },
    {
     "name": "stdout",
     "output_type": "stream",
     "text": [
      "face bounding box coordinates: {'x_tl': 22, 'y_tl': 133, 'x_br': 109, 'y_br': 3}\n"
     ]
    },
    {
     "name": "stderr",
     "output_type": "stream",
     "text": [
      "Fusing layers... \n",
      "Model summary: 290 layers, 20852934 parameters, 0 gradients, 47.9 GFLOPs\n",
      "Speed: 0.0ms pre-process, 67.0ms inference, 6.0ms NMS per image at shape (1, 3, 640, 640)\n",
      "YOLOv5  2022-5-3 torch 1.11.0+cu113 CUDA:0 (NVIDIA GeForce RTX 3060, 12288MiB)\n",
      "\n"
     ]
    },
    {
     "name": "stdout",
     "output_type": "stream",
     "text": [
      "face bounding box coordinates: {'x_tl': 169, 'y_tl': 125, 'x_br': 249, 'y_br': 2}\n"
     ]
    },
    {
     "name": "stderr",
     "output_type": "stream",
     "text": [
      "Fusing layers... \n",
      "Model summary: 290 layers, 20852934 parameters, 0 gradients, 47.9 GFLOPs\n",
      "Speed: 0.0ms pre-process, 68.0ms inference, 18.0ms NMS per image at shape (1, 3, 640, 640)\n",
      "YOLOv5  2022-5-3 torch 1.11.0+cu113 CUDA:0 (NVIDIA GeForce RTX 3060, 12288MiB)\n",
      "\n"
     ]
    },
    {
     "name": "stdout",
     "output_type": "stream",
     "text": [
      "face bounding box coordinates: {'x_tl': 23, 'y_tl': 183, 'x_br': 172, 'y_br': 4}\n"
     ]
    },
    {
     "name": "stderr",
     "output_type": "stream",
     "text": [
      "Fusing layers... \n",
      "Model summary: 290 layers, 20852934 parameters, 0 gradients, 47.9 GFLOPs\n",
      "Speed: 3.0ms pre-process, 91.0ms inference, 4.0ms NMS per image at shape (1, 3, 640, 640)\n",
      "YOLOv5  2022-5-3 torch 1.11.0+cu113 CUDA:0 (NVIDIA GeForce RTX 3060, 12288MiB)\n",
      "\n"
     ]
    },
    {
     "name": "stdout",
     "output_type": "stream",
     "text": [
      "face bounding box coordinates: {'x_tl': 101, 'y_tl': 129, 'x_br': 199, 'y_br': 2}\n"
     ]
    },
    {
     "name": "stderr",
     "output_type": "stream",
     "text": [
      "Fusing layers... \n",
      "Model summary: 290 layers, 20852934 parameters, 0 gradients, 47.9 GFLOPs\n",
      "Speed: 3.0ms pre-process, 86.0ms inference, 10.0ms NMS per image at shape (1, 3, 640, 640)\n",
      "YOLOv5  2022-5-3 torch 1.11.0+cu113 CUDA:0 (NVIDIA GeForce RTX 3060, 12288MiB)\n",
      "\n"
     ]
    },
    {
     "name": "stdout",
     "output_type": "stream",
     "text": [
      "face bounding box coordinates: {'x_tl': 32, 'y_tl': 118, 'x_br': 130, 'y_br': 0}\n"
     ]
    },
    {
     "name": "stderr",
     "output_type": "stream",
     "text": [
      "Fusing layers... \n",
      "Model summary: 290 layers, 20852934 parameters, 0 gradients, 47.9 GFLOPs\n",
      "Speed: 3.0ms pre-process, 128.0ms inference, 9.0ms NMS per image at shape (1, 3, 640, 640)\n",
      "YOLOv5  2022-5-3 torch 1.11.0+cu113 CUDA:0 (NVIDIA GeForce RTX 3060, 12288MiB)\n",
      "\n"
     ]
    },
    {
     "name": "stdout",
     "output_type": "stream",
     "text": [
      "face bounding box coordinates: {'x_tl': 52, 'y_tl': 165, 'x_br': 160, 'y_br': 4}\n"
     ]
    },
    {
     "name": "stderr",
     "output_type": "stream",
     "text": [
      "Fusing layers... \n",
      "Model summary: 290 layers, 20852934 parameters, 0 gradients, 47.9 GFLOPs\n",
      "Speed: 6.0ms pre-process, 76.0ms inference, 3.0ms NMS per image at shape (1, 3, 640, 640)\n",
      "YOLOv5  2022-5-3 torch 1.11.0+cu113 CUDA:0 (NVIDIA GeForce RTX 3060, 12288MiB)\n",
      "\n"
     ]
    },
    {
     "name": "stdout",
     "output_type": "stream",
     "text": [
      "face bounding box coordinates: {'x_tl': 0, 'y_tl': 0, 'x_br': 0, 'y_br': 0}\n"
     ]
    },
    {
     "name": "stderr",
     "output_type": "stream",
     "text": [
      "Fusing layers... \n",
      "Model summary: 290 layers, 20852934 parameters, 0 gradients, 47.9 GFLOPs\n",
      "Speed: 0.0ms pre-process, 44.0ms inference, 12.0ms NMS per image at shape (1, 3, 640, 640)\n",
      "YOLOv5  2022-5-3 torch 1.11.0+cu113 CUDA:0 (NVIDIA GeForce RTX 3060, 12288MiB)\n",
      "\n"
     ]
    },
    {
     "name": "stdout",
     "output_type": "stream",
     "text": [
      "face bounding box coordinates: {'x_tl': 35, 'y_tl': 134, 'x_br': 90, 'y_br': 44}\n"
     ]
    },
    {
     "name": "stderr",
     "output_type": "stream",
     "text": [
      "Fusing layers... \n",
      "Model summary: 290 layers, 20852934 parameters, 0 gradients, 47.9 GFLOPs\n",
      "Speed: 0.0ms pre-process, 75.0ms inference, 15.0ms NMS per image at shape (1, 3, 640, 640)\n",
      "YOLOv5  2022-5-3 torch 1.11.0+cu113 CUDA:0 (NVIDIA GeForce RTX 3060, 12288MiB)\n",
      "\n"
     ]
    },
    {
     "name": "stdout",
     "output_type": "stream",
     "text": [
      "face bounding box coordinates: {'x_tl': 32, 'y_tl': 208, 'x_br': 172, 'y_br': 6}\n"
     ]
    },
    {
     "name": "stderr",
     "output_type": "stream",
     "text": [
      "Fusing layers... \n",
      "Model summary: 290 layers, 20852934 parameters, 0 gradients, 47.9 GFLOPs\n",
      "Speed: 3.0ms pre-process, 80.0ms inference, 6.0ms NMS per image at shape (1, 3, 640, 640)\n",
      "YOLOv5  2022-5-3 torch 1.11.0+cu113 CUDA:0 (NVIDIA GeForce RTX 3060, 12288MiB)\n",
      "\n"
     ]
    },
    {
     "name": "stdout",
     "output_type": "stream",
     "text": [
      "face bounding box coordinates: {'x_tl': 119, 'y_tl': 111, 'x_br': 205, 'y_br': 0}\n"
     ]
    },
    {
     "name": "stderr",
     "output_type": "stream",
     "text": [
      "Fusing layers... \n",
      "Model summary: 290 layers, 20852934 parameters, 0 gradients, 47.9 GFLOPs\n",
      "Speed: 3.0ms pre-process, 91.0ms inference, 18.0ms NMS per image at shape (1, 3, 640, 640)\n",
      "YOLOv5  2022-5-3 torch 1.11.0+cu113 CUDA:0 (NVIDIA GeForce RTX 3060, 12288MiB)\n",
      "\n"
     ]
    },
    {
     "name": "stdout",
     "output_type": "stream",
     "text": [
      "face bounding box coordinates: {'x_tl': 129, 'y_tl': 132, 'x_br': 234, 'y_br': 6}\n"
     ]
    },
    {
     "name": "stderr",
     "output_type": "stream",
     "text": [
      "Fusing layers... \n",
      "Model summary: 290 layers, 20852934 parameters, 0 gradients, 47.9 GFLOPs\n",
      "Speed: 10.0ms pre-process, 104.0ms inference, 3.0ms NMS per image at shape (1, 3, 640, 640)\n",
      "YOLOv5  2022-5-3 torch 1.11.0+cu113 CUDA:0 (NVIDIA GeForce RTX 3060, 12288MiB)\n",
      "\n"
     ]
    },
    {
     "name": "stdout",
     "output_type": "stream",
     "text": [
      "face bounding box coordinates: {'x_tl': 0, 'y_tl': 0, 'x_br': 0, 'y_br': 0}\n"
     ]
    },
    {
     "name": "stderr",
     "output_type": "stream",
     "text": [
      "Fusing layers... \n",
      "Model summary: 290 layers, 20852934 parameters, 0 gradients, 47.9 GFLOPs\n",
      "Speed: 0.0ms pre-process, 89.0ms inference, 9.0ms NMS per image at shape (1, 3, 640, 640)\n",
      "YOLOv5  2022-5-3 torch 1.11.0+cu113 CUDA:0 (NVIDIA GeForce RTX 3060, 12288MiB)\n",
      "\n"
     ]
    },
    {
     "name": "stdout",
     "output_type": "stream",
     "text": [
      "face bounding box coordinates: {'x_tl': 2, 'y_tl': 180, 'x_br': 82, 'y_br': 2}\n"
     ]
    },
    {
     "name": "stderr",
     "output_type": "stream",
     "text": [
      "Fusing layers... \n",
      "Model summary: 290 layers, 20852934 parameters, 0 gradients, 47.9 GFLOPs\n",
      "Speed: 3.0ms pre-process, 58.0ms inference, 7.0ms NMS per image at shape (1, 3, 640, 640)\n",
      "YOLOv5  2022-5-3 torch 1.11.0+cu113 CUDA:0 (NVIDIA GeForce RTX 3060, 12288MiB)\n",
      "\n"
     ]
    },
    {
     "name": "stdout",
     "output_type": "stream",
     "text": [
      "face bounding box coordinates: {'x_tl': 61, 'y_tl': 91, 'x_br': 121, 'y_br': 9}\n"
     ]
    },
    {
     "name": "stderr",
     "output_type": "stream",
     "text": [
      "Fusing layers... \n",
      "Model summary: 290 layers, 20852934 parameters, 0 gradients, 47.9 GFLOPs\n",
      "Speed: 1.0ms pre-process, 71.0ms inference, 9.0ms NMS per image at shape (1, 3, 640, 640)\n",
      "YOLOv5  2022-5-3 torch 1.11.0+cu113 CUDA:0 (NVIDIA GeForce RTX 3060, 12288MiB)\n",
      "\n"
     ]
    },
    {
     "name": "stdout",
     "output_type": "stream",
     "text": [
      "face bounding box coordinates: {'x_tl': 46, 'y_tl': 131, 'x_br': 175, 'y_br': 0}\n"
     ]
    },
    {
     "name": "stderr",
     "output_type": "stream",
     "text": [
      "Fusing layers... \n",
      "Model summary: 290 layers, 20852934 parameters, 0 gradients, 47.9 GFLOPs\n",
      "Speed: 3.0ms pre-process, 71.2ms inference, 13.0ms NMS per image at shape (1, 3, 640, 640)\n",
      "YOLOv5  2022-5-3 torch 1.11.0+cu113 CUDA:0 (NVIDIA GeForce RTX 3060, 12288MiB)\n",
      "\n"
     ]
    },
    {
     "name": "stdout",
     "output_type": "stream",
     "text": [
      "face bounding box coordinates: {'x_tl': 68, 'y_tl': 102, 'x_br': 147, 'y_br': 9}\n"
     ]
    },
    {
     "name": "stderr",
     "output_type": "stream",
     "text": [
      "Fusing layers... \n",
      "Model summary: 290 layers, 20852934 parameters, 0 gradients, 47.9 GFLOPs\n",
      "Speed: 1.0ms pre-process, 70.0ms inference, 3.0ms NMS per image at shape (1, 3, 640, 640)\n",
      "YOLOv5  2022-5-3 torch 1.11.0+cu113 CUDA:0 (NVIDIA GeForce RTX 3060, 12288MiB)\n",
      "\n"
     ]
    },
    {
     "name": "stdout",
     "output_type": "stream",
     "text": [
      "face bounding box coordinates: {'x_tl': 88, 'y_tl': 132, 'x_br': 183, 'y_br': 5}\n"
     ]
    },
    {
     "name": "stderr",
     "output_type": "stream",
     "text": [
      "Fusing layers... \n",
      "Model summary: 290 layers, 20852934 parameters, 0 gradients, 47.9 GFLOPs\n",
      "Speed: 5.0ms pre-process, 73.0ms inference, 6.0ms NMS per image at shape (1, 3, 640, 640)\n",
      "YOLOv5  2022-5-3 torch 1.11.0+cu113 CUDA:0 (NVIDIA GeForce RTX 3060, 12288MiB)\n",
      "\n"
     ]
    },
    {
     "name": "stdout",
     "output_type": "stream",
     "text": [
      "face bounding box coordinates: {'x_tl': 0, 'y_tl': 0, 'x_br': 0, 'y_br': 0}\n"
     ]
    },
    {
     "name": "stderr",
     "output_type": "stream",
     "text": [
      "Fusing layers... \n",
      "Model summary: 290 layers, 20852934 parameters, 0 gradients, 47.9 GFLOPs\n",
      "Speed: 3.0ms pre-process, 72.0ms inference, 6.0ms NMS per image at shape (1, 3, 640, 640)\n",
      "YOLOv5  2022-5-3 torch 1.11.0+cu113 CUDA:0 (NVIDIA GeForce RTX 3060, 12288MiB)\n",
      "\n"
     ]
    },
    {
     "name": "stdout",
     "output_type": "stream",
     "text": [
      "face bounding box coordinates: {'x_tl': 29, 'y_tl': 245, 'x_br': 161, 'y_br': 46}\n"
     ]
    },
    {
     "name": "stderr",
     "output_type": "stream",
     "text": [
      "Fusing layers... \n",
      "Model summary: 290 layers, 20852934 parameters, 0 gradients, 47.9 GFLOPs\n",
      "Speed: 2.0ms pre-process, 62.0ms inference, 6.0ms NMS per image at shape (1, 3, 640, 640)\n",
      "YOLOv5  2022-5-3 torch 1.11.0+cu113 CUDA:0 (NVIDIA GeForce RTX 3060, 12288MiB)\n",
      "\n"
     ]
    },
    {
     "name": "stdout",
     "output_type": "stream",
     "text": [
      "face bounding box coordinates: {'x_tl': 129, 'y_tl': 98, 'x_br': 194, 'y_br': 7}\n"
     ]
    },
    {
     "name": "stderr",
     "output_type": "stream",
     "text": [
      "Fusing layers... \n",
      "Model summary: 290 layers, 20852934 parameters, 0 gradients, 47.9 GFLOPs\n",
      "Speed: 1.0ms pre-process, 60.0ms inference, 3.0ms NMS per image at shape (1, 3, 640, 640)\n",
      "YOLOv5  2022-5-3 torch 1.11.0+cu113 CUDA:0 (NVIDIA GeForce RTX 3060, 12288MiB)\n",
      "\n"
     ]
    },
    {
     "name": "stdout",
     "output_type": "stream",
     "text": [
      "face bounding box coordinates: {'x_tl': 80, 'y_tl': 158, 'x_br': 182, 'y_br': 28}\n"
     ]
    },
    {
     "name": "stderr",
     "output_type": "stream",
     "text": [
      "Fusing layers... \n",
      "Model summary: 290 layers, 20852934 parameters, 0 gradients, 47.9 GFLOPs\n",
      "Speed: 1.0ms pre-process, 68.0ms inference, 6.0ms NMS per image at shape (1, 3, 640, 640)\n",
      "YOLOv5  2022-5-3 torch 1.11.0+cu113 CUDA:0 (NVIDIA GeForce RTX 3060, 12288MiB)\n",
      "\n"
     ]
    },
    {
     "name": "stdout",
     "output_type": "stream",
     "text": [
      "face bounding box coordinates: {'x_tl': 40, 'y_tl': 197, 'x_br': 179, 'y_br': 19}\n"
     ]
    },
    {
     "name": "stderr",
     "output_type": "stream",
     "text": [
      "Fusing layers... \n",
      "Model summary: 290 layers, 20852934 parameters, 0 gradients, 47.9 GFLOPs\n",
      "Speed: 1.0ms pre-process, 65.0ms inference, 18.0ms NMS per image at shape (1, 3, 640, 640)\n",
      "YOLOv5  2022-5-3 torch 1.11.0+cu113 CUDA:0 (NVIDIA GeForce RTX 3060, 12288MiB)\n",
      "\n"
     ]
    },
    {
     "name": "stdout",
     "output_type": "stream",
     "text": [
      "face bounding box coordinates: {'x_tl': 44, 'y_tl': 192, 'x_br': 159, 'y_br': 19}\n"
     ]
    },
    {
     "name": "stderr",
     "output_type": "stream",
     "text": [
      "Fusing layers... \n",
      "Model summary: 290 layers, 20852934 parameters, 0 gradients, 47.9 GFLOPs\n",
      "Speed: 1.0ms pre-process, 47.0ms inference, 4.0ms NMS per image at shape (1, 3, 640, 640)\n",
      "YOLOv5  2022-5-3 torch 1.11.0+cu113 CUDA:0 (NVIDIA GeForce RTX 3060, 12288MiB)\n",
      "\n"
     ]
    },
    {
     "name": "stdout",
     "output_type": "stream",
     "text": [
      "face bounding box coordinates: {'x_tl': 53, 'y_tl': 141, 'x_br': 145, 'y_br': 17}\n"
     ]
    },
    {
     "name": "stderr",
     "output_type": "stream",
     "text": [
      "Fusing layers... \n",
      "Model summary: 290 layers, 20852934 parameters, 0 gradients, 47.9 GFLOPs\n",
      "Speed: 1.0ms pre-process, 59.0ms inference, 1.0ms NMS per image at shape (1, 3, 640, 640)\n",
      "YOLOv5  2022-5-3 torch 1.11.0+cu113 CUDA:0 (NVIDIA GeForce RTX 3060, 12288MiB)\n",
      "\n"
     ]
    },
    {
     "name": "stdout",
     "output_type": "stream",
     "text": [
      "face bounding box coordinates: {'x_tl': 0, 'y_tl': 0, 'x_br': 0, 'y_br': 0}\n"
     ]
    },
    {
     "name": "stderr",
     "output_type": "stream",
     "text": [
      "Fusing layers... \n",
      "Model summary: 290 layers, 20852934 parameters, 0 gradients, 47.9 GFLOPs\n",
      "Speed: 1.0ms pre-process, 82.0ms inference, 0.0ms NMS per image at shape (1, 3, 640, 640)\n",
      "YOLOv5  2022-5-3 torch 1.11.0+cu113 CUDA:0 (NVIDIA GeForce RTX 3060, 12288MiB)\n",
      "\n"
     ]
    },
    {
     "name": "stdout",
     "output_type": "stream",
     "text": [
      "face bounding box coordinates: {'x_tl': 0, 'y_tl': 0, 'x_br': 0, 'y_br': 0}\n"
     ]
    },
    {
     "name": "stderr",
     "output_type": "stream",
     "text": [
      "Fusing layers... \n",
      "Model summary: 290 layers, 20852934 parameters, 0 gradients, 47.9 GFLOPs\n",
      "Speed: 3.0ms pre-process, 99.0ms inference, 12.0ms NMS per image at shape (1, 3, 640, 640)\n",
      "YOLOv5  2022-5-3 torch 1.11.0+cu113 CUDA:0 (NVIDIA GeForce RTX 3060, 12288MiB)\n",
      "\n"
     ]
    },
    {
     "name": "stdout",
     "output_type": "stream",
     "text": [
      "face bounding box coordinates: {'x_tl': 63, 'y_tl': 94, 'x_br': 127, 'y_br': 6}\n"
     ]
    },
    {
     "name": "stderr",
     "output_type": "stream",
     "text": [
      "Fusing layers... \n",
      "Model summary: 290 layers, 20852934 parameters, 0 gradients, 47.9 GFLOPs\n",
      "Speed: 3.0ms pre-process, 54.0ms inference, 1.0ms NMS per image at shape (1, 3, 640, 640)\n",
      "YOLOv5  2022-5-3 torch 1.11.0+cu113 CUDA:0 (NVIDIA GeForce RTX 3060, 12288MiB)\n",
      "\n"
     ]
    },
    {
     "name": "stdout",
     "output_type": "stream",
     "text": [
      "face bounding box coordinates: {'x_tl': 0, 'y_tl': 0, 'x_br': 0, 'y_br': 0}\n"
     ]
    },
    {
     "name": "stderr",
     "output_type": "stream",
     "text": [
      "Fusing layers... \n",
      "Model summary: 290 layers, 20852934 parameters, 0 gradients, 47.9 GFLOPs\n",
      "Speed: 4.0ms pre-process, 102.0ms inference, 5.0ms NMS per image at shape (1, 3, 640, 640)\n",
      "YOLOv5  2022-5-3 torch 1.11.0+cu113 CUDA:0 (NVIDIA GeForce RTX 3060, 12288MiB)\n",
      "\n"
     ]
    },
    {
     "name": "stdout",
     "output_type": "stream",
     "text": [
      "face bounding box coordinates: {'x_tl': 0, 'y_tl': 0, 'x_br': 0, 'y_br': 0}\n"
     ]
    },
    {
     "name": "stderr",
     "output_type": "stream",
     "text": [
      "Fusing layers... \n",
      "Model summary: 290 layers, 20852934 parameters, 0 gradients, 47.9 GFLOPs\n",
      "Speed: 6.0ms pre-process, 52.0ms inference, 4.0ms NMS per image at shape (1, 3, 640, 640)\n",
      "YOLOv5  2022-5-3 torch 1.11.0+cu113 CUDA:0 (NVIDIA GeForce RTX 3060, 12288MiB)\n",
      "\n"
     ]
    },
    {
     "name": "stdout",
     "output_type": "stream",
     "text": [
      "face bounding box coordinates: {'x_tl': 17, 'y_tl': 116, 'x_br': 94, 'y_br': 3}\n"
     ]
    },
    {
     "name": "stderr",
     "output_type": "stream",
     "text": [
      "Fusing layers... \n",
      "Model summary: 290 layers, 20852934 parameters, 0 gradients, 47.9 GFLOPs\n",
      "Speed: 9.0ms pre-process, 80.0ms inference, 6.0ms NMS per image at shape (1, 3, 640, 640)\n",
      "YOLOv5  2022-5-3 torch 1.11.0+cu113 CUDA:0 (NVIDIA GeForce RTX 3060, 12288MiB)\n",
      "\n"
     ]
    },
    {
     "name": "stdout",
     "output_type": "stream",
     "text": [
      "face bounding box coordinates: {'x_tl': 27, 'y_tl': 129, 'x_br': 121, 'y_br': 1}\n"
     ]
    },
    {
     "name": "stderr",
     "output_type": "stream",
     "text": [
      "Fusing layers... \n",
      "Model summary: 290 layers, 20852934 parameters, 0 gradients, 47.9 GFLOPs\n",
      "Speed: 1.0ms pre-process, 47.0ms inference, 6.0ms NMS per image at shape (1, 3, 640, 640)\n",
      "YOLOv5  2022-5-3 torch 1.11.0+cu113 CUDA:0 (NVIDIA GeForce RTX 3060, 12288MiB)\n",
      "\n"
     ]
    },
    {
     "name": "stdout",
     "output_type": "stream",
     "text": [
      "face bounding box coordinates: {'x_tl': 74, 'y_tl': 165, 'x_br': 221, 'y_br': 0}\n"
     ]
    },
    {
     "name": "stderr",
     "output_type": "stream",
     "text": [
      "Fusing layers... \n",
      "Model summary: 290 layers, 20852934 parameters, 0 gradients, 47.9 GFLOPs\n",
      "Speed: 0.0ms pre-process, 74.0ms inference, 4.0ms NMS per image at shape (1, 3, 640, 640)\n",
      "YOLOv5  2022-5-3 torch 1.11.0+cu113 CUDA:0 (NVIDIA GeForce RTX 3060, 12288MiB)\n",
      "\n"
     ]
    },
    {
     "name": "stdout",
     "output_type": "stream",
     "text": [
      "face bounding box coordinates: {'x_tl': 169, 'y_tl': 116, 'x_br': 279, 'y_br': 0}\n"
     ]
    },
    {
     "name": "stderr",
     "output_type": "stream",
     "text": [
      "Fusing layers... \n",
      "Model summary: 290 layers, 20852934 parameters, 0 gradients, 47.9 GFLOPs\n",
      "Speed: 0.0ms pre-process, 65.0ms inference, 6.0ms NMS per image at shape (1, 3, 640, 640)\n",
      "YOLOv5  2022-5-3 torch 1.11.0+cu113 CUDA:0 (NVIDIA GeForce RTX 3060, 12288MiB)\n",
      "\n"
     ]
    },
    {
     "name": "stdout",
     "output_type": "stream",
     "text": [
      "face bounding box coordinates: {'x_tl': 109, 'y_tl': 99, 'x_br': 197, 'y_br': 0}\n"
     ]
    },
    {
     "name": "stderr",
     "output_type": "stream",
     "text": [
      "Fusing layers... \n",
      "Model summary: 290 layers, 20852934 parameters, 0 gradients, 47.9 GFLOPs\n",
      "Speed: 0.0ms pre-process, 95.0ms inference, 0.0ms NMS per image at shape (1, 3, 640, 640)\n",
      "YOLOv5  2022-5-3 torch 1.11.0+cu113 CUDA:0 (NVIDIA GeForce RTX 3060, 12288MiB)\n",
      "\n"
     ]
    },
    {
     "name": "stdout",
     "output_type": "stream",
     "text": [
      "face bounding box coordinates: {'x_tl': 0, 'y_tl': 0, 'x_br': 0, 'y_br': 0}\n"
     ]
    },
    {
     "name": "stderr",
     "output_type": "stream",
     "text": [
      "Fusing layers... \n",
      "Model summary: 290 layers, 20852934 parameters, 0 gradients, 47.9 GFLOPs\n",
      "Speed: 1.0ms pre-process, 52.0ms inference, 12.2ms NMS per image at shape (1, 3, 640, 640)\n",
      "YOLOv5  2022-5-3 torch 1.11.0+cu113 CUDA:0 (NVIDIA GeForce RTX 3060, 12288MiB)\n",
      "\n"
     ]
    },
    {
     "name": "stdout",
     "output_type": "stream",
     "text": [
      "face bounding box coordinates: {'x_tl': 0, 'y_tl': 0, 'x_br': 0, 'y_br': 0}\n"
     ]
    },
    {
     "name": "stderr",
     "output_type": "stream",
     "text": [
      "Fusing layers... \n",
      "Model summary: 290 layers, 20852934 parameters, 0 gradients, 47.9 GFLOPs\n",
      "Speed: 3.0ms pre-process, 53.0ms inference, 15.0ms NMS per image at shape (1, 3, 640, 640)\n",
      "YOLOv5  2022-5-3 torch 1.11.0+cu113 CUDA:0 (NVIDIA GeForce RTX 3060, 12288MiB)\n",
      "\n"
     ]
    },
    {
     "name": "stdout",
     "output_type": "stream",
     "text": [
      "face bounding box coordinates: {'x_tl': 75, 'y_tl': 75, 'x_br': 120, 'y_br': 18}\n"
     ]
    },
    {
     "name": "stderr",
     "output_type": "stream",
     "text": [
      "Fusing layers... \n",
      "Model summary: 290 layers, 20852934 parameters, 0 gradients, 47.9 GFLOPs\n",
      "Speed: 3.0ms pre-process, 85.0ms inference, 6.0ms NMS per image at shape (1, 3, 640, 640)\n",
      "YOLOv5  2022-5-3 torch 1.11.0+cu113 CUDA:0 (NVIDIA GeForce RTX 3060, 12288MiB)\n",
      "\n"
     ]
    },
    {
     "name": "stdout",
     "output_type": "stream",
     "text": [
      "face bounding box coordinates: {'x_tl': 0, 'y_tl': 0, 'x_br': 0, 'y_br': 0}\n"
     ]
    },
    {
     "name": "stderr",
     "output_type": "stream",
     "text": [
      "Fusing layers... \n",
      "Model summary: 290 layers, 20852934 parameters, 0 gradients, 47.9 GFLOPs\n",
      "Speed: 2.0ms pre-process, 78.0ms inference, 1.0ms NMS per image at shape (1, 3, 640, 640)\n",
      "YOLOv5  2022-5-3 torch 1.11.0+cu113 CUDA:0 (NVIDIA GeForce RTX 3060, 12288MiB)\n",
      "\n"
     ]
    },
    {
     "name": "stdout",
     "output_type": "stream",
     "text": [
      "face bounding box coordinates: {'x_tl': 0, 'y_tl': 0, 'x_br': 0, 'y_br': 0}\n"
     ]
    },
    {
     "name": "stderr",
     "output_type": "stream",
     "text": [
      "Fusing layers... \n",
      "Model summary: 290 layers, 20852934 parameters, 0 gradients, 47.9 GFLOPs\n",
      "Speed: 0.0ms pre-process, 41.0ms inference, 6.0ms NMS per image at shape (1, 3, 640, 640)\n",
      "YOLOv5  2022-5-3 torch 1.11.0+cu113 CUDA:0 (NVIDIA GeForce RTX 3060, 12288MiB)\n",
      "\n"
     ]
    },
    {
     "name": "stdout",
     "output_type": "stream",
     "text": [
      "face bounding box coordinates: {'x_tl': 46, 'y_tl': 160, 'x_br': 150, 'y_br': 36}\n"
     ]
    },
    {
     "name": "stderr",
     "output_type": "stream",
     "text": [
      "Fusing layers... \n",
      "Model summary: 290 layers, 20852934 parameters, 0 gradients, 47.9 GFLOPs\n",
      "Speed: 0.0ms pre-process, 53.0ms inference, 4.0ms NMS per image at shape (1, 3, 640, 640)\n",
      "YOLOv5  2022-5-3 torch 1.11.0+cu113 CUDA:0 (NVIDIA GeForce RTX 3060, 12288MiB)\n",
      "\n"
     ]
    },
    {
     "name": "stdout",
     "output_type": "stream",
     "text": [
      "face bounding box coordinates: {'x_tl': 114, 'y_tl': 109, 'x_br': 187, 'y_br': 6}\n"
     ]
    },
    {
     "name": "stderr",
     "output_type": "stream",
     "text": [
      "Fusing layers... \n",
      "Model summary: 290 layers, 20852934 parameters, 0 gradients, 47.9 GFLOPs\n",
      "Speed: 6.0ms pre-process, 69.0ms inference, 6.0ms NMS per image at shape (1, 3, 640, 640)\n",
      "YOLOv5  2022-5-3 torch 1.11.0+cu113 CUDA:0 (NVIDIA GeForce RTX 3060, 12288MiB)\n",
      "\n"
     ]
    },
    {
     "name": "stdout",
     "output_type": "stream",
     "text": [
      "face bounding box coordinates: {'x_tl': 52, 'y_tl': 87, 'x_br': 151, 'y_br': 0}\n"
     ]
    },
    {
     "name": "stderr",
     "output_type": "stream",
     "text": [
      "Fusing layers... \n",
      "Model summary: 290 layers, 20852934 parameters, 0 gradients, 47.9 GFLOPs\n",
      "Speed: 1.0ms pre-process, 148.0ms inference, 4.0ms NMS per image at shape (1, 3, 640, 640)\n",
      "YOLOv5  2022-5-3 torch 1.11.0+cu113 CUDA:0 (NVIDIA GeForce RTX 3060, 12288MiB)\n",
      "\n"
     ]
    },
    {
     "name": "stdout",
     "output_type": "stream",
     "text": [
      "face bounding box coordinates: {'x_tl': 20, 'y_tl': 149, 'x_br': 153, 'y_br': 8}\n"
     ]
    },
    {
     "name": "stderr",
     "output_type": "stream",
     "text": [
      "Fusing layers... \n",
      "Model summary: 290 layers, 20852934 parameters, 0 gradients, 47.9 GFLOPs\n",
      "Speed: 3.0ms pre-process, 104.0ms inference, 4.0ms NMS per image at shape (1, 3, 640, 640)\n",
      "YOLOv5  2022-5-3 torch 1.11.0+cu113 CUDA:0 (NVIDIA GeForce RTX 3060, 12288MiB)\n",
      "\n"
     ]
    },
    {
     "name": "stdout",
     "output_type": "stream",
     "text": [
      "face bounding box coordinates: {'x_tl': 20, 'y_tl': 12, 'x_br': 34, 'y_br': 0}\n"
     ]
    },
    {
     "name": "stderr",
     "output_type": "stream",
     "text": [
      "Fusing layers... \n",
      "Model summary: 290 layers, 20852934 parameters, 0 gradients, 47.9 GFLOPs\n",
      "Speed: 3.6ms pre-process, 78.4ms inference, 21.0ms NMS per image at shape (1, 3, 640, 640)\n",
      "YOLOv5  2022-5-3 torch 1.11.0+cu113 CUDA:0 (NVIDIA GeForce RTX 3060, 12288MiB)\n",
      "\n"
     ]
    },
    {
     "name": "stdout",
     "output_type": "stream",
     "text": [
      "face bounding box coordinates: {'x_tl': 110, 'y_tl': 140, 'x_br': 208, 'y_br': 2}\n"
     ]
    },
    {
     "name": "stderr",
     "output_type": "stream",
     "text": [
      "Fusing layers... \n",
      "Model summary: 290 layers, 20852934 parameters, 0 gradients, 47.9 GFLOPs\n",
      "Speed: 3.0ms pre-process, 92.0ms inference, 12.0ms NMS per image at shape (1, 3, 640, 640)\n",
      "YOLOv5  2022-5-3 torch 1.11.0+cu113 CUDA:0 (NVIDIA GeForce RTX 3060, 12288MiB)\n",
      "\n"
     ]
    },
    {
     "name": "stdout",
     "output_type": "stream",
     "text": [
      "face bounding box coordinates: {'x_tl': 33, 'y_tl': 163, 'x_br': 134, 'y_br': 17}\n"
     ]
    },
    {
     "name": "stderr",
     "output_type": "stream",
     "text": [
      "Fusing layers... \n",
      "Model summary: 290 layers, 20852934 parameters, 0 gradients, 47.9 GFLOPs\n",
      "Speed: 0.0ms pre-process, 67.0ms inference, 3.0ms NMS per image at shape (1, 3, 640, 640)\n",
      "YOLOv5  2022-5-3 torch 1.11.0+cu113 CUDA:0 (NVIDIA GeForce RTX 3060, 12288MiB)\n",
      "\n"
     ]
    },
    {
     "name": "stdout",
     "output_type": "stream",
     "text": [
      "face bounding box coordinates: {'x_tl': 0, 'y_tl': 0, 'x_br': 0, 'y_br': 0}\n"
     ]
    },
    {
     "name": "stderr",
     "output_type": "stream",
     "text": [
      "Fusing layers... \n",
      "Model summary: 290 layers, 20852934 parameters, 0 gradients, 47.9 GFLOPs\n",
      "Speed: 3.0ms pre-process, 159.0ms inference, 23.0ms NMS per image at shape (1, 3, 640, 640)\n",
      "YOLOv5  2022-5-3 torch 1.11.0+cu113 CUDA:0 (NVIDIA GeForce RTX 3060, 12288MiB)\n",
      "\n"
     ]
    },
    {
     "name": "stdout",
     "output_type": "stream",
     "text": [
      "face bounding box coordinates: {'x_tl': 31, 'y_tl': 71, 'x_br': 82, 'y_br': 2}\n"
     ]
    },
    {
     "name": "stderr",
     "output_type": "stream",
     "text": [
      "Fusing layers... \n",
      "Model summary: 290 layers, 20852934 parameters, 0 gradients, 47.9 GFLOPs\n",
      "Speed: 9.0ms pre-process, 97.0ms inference, 7.0ms NMS per image at shape (1, 3, 640, 640)\n",
      "YOLOv5  2022-5-3 torch 1.11.0+cu113 CUDA:0 (NVIDIA GeForce RTX 3060, 12288MiB)\n",
      "\n"
     ]
    },
    {
     "name": "stdout",
     "output_type": "stream",
     "text": [
      "face bounding box coordinates: {'x_tl': 26, 'y_tl': 127, 'x_br': 105, 'y_br': 4}\n"
     ]
    },
    {
     "name": "stderr",
     "output_type": "stream",
     "text": [
      "Fusing layers... \n",
      "Model summary: 290 layers, 20852934 parameters, 0 gradients, 47.9 GFLOPs\n",
      "Speed: 3.0ms pre-process, 111.0ms inference, 11.0ms NMS per image at shape (1, 3, 640, 640)\n",
      "YOLOv5  2022-5-3 torch 1.11.0+cu113 CUDA:0 (NVIDIA GeForce RTX 3060, 12288MiB)\n",
      "\n"
     ]
    },
    {
     "name": "stdout",
     "output_type": "stream",
     "text": [
      "face bounding box coordinates: {'x_tl': 0, 'y_tl': 84, 'x_br': 62, 'y_br': 2}\n"
     ]
    },
    {
     "name": "stderr",
     "output_type": "stream",
     "text": [
      "Fusing layers... \n",
      "Model summary: 290 layers, 20852934 parameters, 0 gradients, 47.9 GFLOPs\n",
      "Speed: 0.0ms pre-process, 113.0ms inference, 1.0ms NMS per image at shape (1, 3, 640, 640)\n",
      "YOLOv5  2022-5-3 torch 1.11.0+cu113 CUDA:0 (NVIDIA GeForce RTX 3060, 12288MiB)\n",
      "\n"
     ]
    },
    {
     "name": "stdout",
     "output_type": "stream",
     "text": [
      "face bounding box coordinates: {'x_tl': 0, 'y_tl': 0, 'x_br': 0, 'y_br': 0}\n"
     ]
    },
    {
     "name": "stderr",
     "output_type": "stream",
     "text": [
      "Fusing layers... \n",
      "Model summary: 290 layers, 20852934 parameters, 0 gradients, 47.9 GFLOPs\n",
      "Speed: 0.0ms pre-process, 72.0ms inference, 7.0ms NMS per image at shape (1, 3, 640, 640)\n",
      "YOLOv5  2022-5-3 torch 1.11.0+cu113 CUDA:0 (NVIDIA GeForce RTX 3060, 12288MiB)\n",
      "\n"
     ]
    },
    {
     "name": "stdout",
     "output_type": "stream",
     "text": [
      "face bounding box coordinates: {'x_tl': 21, 'y_tl': 140, 'x_br': 142, 'y_br': 0}\n"
     ]
    },
    {
     "name": "stderr",
     "output_type": "stream",
     "text": [
      "Fusing layers... \n",
      "Model summary: 290 layers, 20852934 parameters, 0 gradients, 47.9 GFLOPs\n",
      "Speed: 1.0ms pre-process, 83.0ms inference, 2.0ms NMS per image at shape (1, 3, 640, 640)\n",
      "YOLOv5  2022-5-3 torch 1.11.0+cu113 CUDA:0 (NVIDIA GeForce RTX 3060, 12288MiB)\n",
      "\n"
     ]
    },
    {
     "name": "stdout",
     "output_type": "stream",
     "text": [
      "face bounding box coordinates: {'x_tl': 0, 'y_tl': 0, 'x_br': 0, 'y_br': 0}\n"
     ]
    },
    {
     "name": "stderr",
     "output_type": "stream",
     "text": [
      "Fusing layers... \n",
      "Model summary: 290 layers, 20852934 parameters, 0 gradients, 47.9 GFLOPs\n",
      "Speed: 12.0ms pre-process, 107.0ms inference, 3.0ms NMS per image at shape (1, 3, 640, 640)\n",
      "YOLOv5  2022-5-3 torch 1.11.0+cu113 CUDA:0 (NVIDIA GeForce RTX 3060, 12288MiB)\n",
      "\n"
     ]
    },
    {
     "name": "stdout",
     "output_type": "stream",
     "text": [
      "face bounding box coordinates: {'x_tl': 106, 'y_tl': 114, 'x_br': 145, 'y_br': 58}\n"
     ]
    },
    {
     "name": "stderr",
     "output_type": "stream",
     "text": [
      "Fusing layers... \n",
      "Model summary: 290 layers, 20852934 parameters, 0 gradients, 47.9 GFLOPs\n",
      "Speed: 9.0ms pre-process, 67.0ms inference, 9.0ms NMS per image at shape (1, 3, 640, 640)\n",
      "YOLOv5  2022-5-3 torch 1.11.0+cu113 CUDA:0 (NVIDIA GeForce RTX 3060, 12288MiB)\n",
      "\n"
     ]
    },
    {
     "name": "stdout",
     "output_type": "stream",
     "text": [
      "face bounding box coordinates: {'x_tl': 93, 'y_tl': 109, 'x_br': 187, 'y_br': 2}\n"
     ]
    },
    {
     "name": "stderr",
     "output_type": "stream",
     "text": [
      "Fusing layers... \n",
      "Model summary: 290 layers, 20852934 parameters, 0 gradients, 47.9 GFLOPs\n",
      "Speed: 3.0ms pre-process, 95.0ms inference, 5.0ms NMS per image at shape (1, 3, 640, 640)\n",
      "YOLOv5  2022-5-3 torch 1.11.0+cu113 CUDA:0 (NVIDIA GeForce RTX 3060, 12288MiB)\n",
      "\n"
     ]
    },
    {
     "name": "stdout",
     "output_type": "stream",
     "text": [
      "face bounding box coordinates: {'x_tl': 0, 'y_tl': 0, 'x_br': 0, 'y_br': 0}\n"
     ]
    },
    {
     "name": "stderr",
     "output_type": "stream",
     "text": [
      "Fusing layers... \n",
      "Model summary: 290 layers, 20852934 parameters, 0 gradients, 47.9 GFLOPs\n",
      "Speed: 1.0ms pre-process, 114.0ms inference, 1.0ms NMS per image at shape (1, 3, 640, 640)\n",
      "YOLOv5  2022-5-3 torch 1.11.0+cu113 CUDA:0 (NVIDIA GeForce RTX 3060, 12288MiB)\n",
      "\n"
     ]
    },
    {
     "name": "stdout",
     "output_type": "stream",
     "text": [
      "face bounding box coordinates: {'x_tl': 0, 'y_tl': 0, 'x_br': 0, 'y_br': 0}\n"
     ]
    },
    {
     "name": "stderr",
     "output_type": "stream",
     "text": [
      "Fusing layers... \n",
      "Model summary: 290 layers, 20852934 parameters, 0 gradients, 47.9 GFLOPs\n",
      "Speed: 3.0ms pre-process, 68.0ms inference, 6.0ms NMS per image at shape (1, 3, 640, 640)\n",
      "YOLOv5  2022-5-3 torch 1.11.0+cu113 CUDA:0 (NVIDIA GeForce RTX 3060, 12288MiB)\n",
      "\n"
     ]
    },
    {
     "name": "stdout",
     "output_type": "stream",
     "text": [
      "face bounding box coordinates: {'x_tl': 121, 'y_tl': 55, 'x_br': 154, 'y_br': 12}\n"
     ]
    },
    {
     "name": "stderr",
     "output_type": "stream",
     "text": [
      "Fusing layers... \n",
      "Model summary: 290 layers, 20852934 parameters, 0 gradients, 47.9 GFLOPs\n",
      "Speed: 1.0ms pre-process, 87.0ms inference, 3.0ms NMS per image at shape (1, 3, 640, 640)\n",
      "YOLOv5  2022-5-3 torch 1.11.0+cu113 CUDA:0 (NVIDIA GeForce RTX 3060, 12288MiB)\n",
      "\n"
     ]
    },
    {
     "name": "stdout",
     "output_type": "stream",
     "text": [
      "face bounding box coordinates: {'x_tl': 0, 'y_tl': 0, 'x_br': 0, 'y_br': 0}\n"
     ]
    },
    {
     "name": "stderr",
     "output_type": "stream",
     "text": [
      "Fusing layers... \n",
      "Model summary: 290 layers, 20852934 parameters, 0 gradients, 47.9 GFLOPs\n",
      "Speed: 3.0ms pre-process, 132.0ms inference, 0.0ms NMS per image at shape (1, 3, 640, 640)\n",
      "YOLOv5  2022-5-3 torch 1.11.0+cu113 CUDA:0 (NVIDIA GeForce RTX 3060, 12288MiB)\n",
      "\n"
     ]
    },
    {
     "name": "stdout",
     "output_type": "stream",
     "text": [
      "face bounding box coordinates: {'x_tl': 0, 'y_tl': 0, 'x_br': 0, 'y_br': 0}\n"
     ]
    },
    {
     "name": "stderr",
     "output_type": "stream",
     "text": [
      "Fusing layers... \n",
      "Model summary: 290 layers, 20852934 parameters, 0 gradients, 47.9 GFLOPs\n",
      "Speed: 3.0ms pre-process, 66.0ms inference, 18.0ms NMS per image at shape (1, 3, 640, 640)\n",
      "YOLOv5  2022-5-3 torch 1.11.0+cu113 CUDA:0 (NVIDIA GeForce RTX 3060, 12288MiB)\n",
      "\n"
     ]
    },
    {
     "name": "stdout",
     "output_type": "stream",
     "text": [
      "face bounding box coordinates: {'x_tl': 28, 'y_tl': 66, 'x_br': 83, 'y_br': 1}\n"
     ]
    },
    {
     "name": "stderr",
     "output_type": "stream",
     "text": [
      "Fusing layers... \n",
      "Model summary: 290 layers, 20852934 parameters, 0 gradients, 47.9 GFLOPs\n",
      "Speed: 6.0ms pre-process, 147.0ms inference, 9.0ms NMS per image at shape (1, 3, 640, 640)\n",
      "YOLOv5  2022-5-3 torch 1.11.0+cu113 CUDA:0 (NVIDIA GeForce RTX 3060, 12288MiB)\n",
      "\n"
     ]
    },
    {
     "name": "stdout",
     "output_type": "stream",
     "text": [
      "face bounding box coordinates: {'x_tl': 0, 'y_tl': 0, 'x_br': 0, 'y_br': 0}\n"
     ]
    },
    {
     "name": "stderr",
     "output_type": "stream",
     "text": [
      "Fusing layers... \n",
      "Model summary: 290 layers, 20852934 parameters, 0 gradients, 47.9 GFLOPs\n",
      "Speed: 6.0ms pre-process, 123.0ms inference, 4.0ms NMS per image at shape (1, 3, 640, 640)\n",
      "YOLOv5  2022-5-3 torch 1.11.0+cu113 CUDA:0 (NVIDIA GeForce RTX 3060, 12288MiB)\n",
      "\n"
     ]
    },
    {
     "name": "stdout",
     "output_type": "stream",
     "text": [
      "face bounding box coordinates: {'x_tl': 26, 'y_tl': 58, 'x_br': 64, 'y_br': 1}\n"
     ]
    },
    {
     "name": "stderr",
     "output_type": "stream",
     "text": [
      "Fusing layers... \n",
      "Model summary: 290 layers, 20852934 parameters, 0 gradients, 47.9 GFLOPs\n",
      "Speed: 3.0ms pre-process, 110.0ms inference, 26.0ms NMS per image at shape (1, 3, 640, 640)\n",
      "YOLOv5  2022-5-3 torch 1.11.0+cu113 CUDA:0 (NVIDIA GeForce RTX 3060, 12288MiB)\n",
      "\n"
     ]
    },
    {
     "name": "stdout",
     "output_type": "stream",
     "text": [
      "face bounding box coordinates: {'x_tl': 128, 'y_tl': 122, 'x_br': 209, 'y_br': 3}\n"
     ]
    },
    {
     "name": "stderr",
     "output_type": "stream",
     "text": [
      "Fusing layers... \n",
      "Model summary: 290 layers, 20852934 parameters, 0 gradients, 47.9 GFLOPs\n",
      "Speed: 3.0ms pre-process, 67.0ms inference, 7.0ms NMS per image at shape (1, 3, 640, 640)\n",
      "YOLOv5  2022-5-3 torch 1.11.0+cu113 CUDA:0 (NVIDIA GeForce RTX 3060, 12288MiB)\n",
      "\n"
     ]
    },
    {
     "name": "stdout",
     "output_type": "stream",
     "text": [
      "face bounding box coordinates: {'x_tl': 69, 'y_tl': 100, 'x_br': 135, 'y_br': 2}\n"
     ]
    },
    {
     "name": "stderr",
     "output_type": "stream",
     "text": [
      "Fusing layers... \n",
      "Model summary: 290 layers, 20852934 parameters, 0 gradients, 47.9 GFLOPs\n",
      "Speed: 5.0ms pre-process, 134.0ms inference, 7.0ms NMS per image at shape (1, 3, 640, 640)\n",
      "YOLOv5  2022-5-3 torch 1.11.0+cu113 CUDA:0 (NVIDIA GeForce RTX 3060, 12288MiB)\n",
      "\n"
     ]
    },
    {
     "name": "stdout",
     "output_type": "stream",
     "text": [
      "face bounding box coordinates: {'x_tl': 13, 'y_tl': 89, 'x_br': 85, 'y_br': 2}\n"
     ]
    },
    {
     "name": "stderr",
     "output_type": "stream",
     "text": [
      "Fusing layers... \n",
      "Model summary: 290 layers, 20852934 parameters, 0 gradients, 47.9 GFLOPs\n",
      "Speed: 4.0ms pre-process, 143.0ms inference, 13.0ms NMS per image at shape (1, 3, 640, 640)\n",
      "YOLOv5  2022-5-3 torch 1.11.0+cu113 CUDA:0 (NVIDIA GeForce RTX 3060, 12288MiB)\n",
      "\n"
     ]
    },
    {
     "name": "stdout",
     "output_type": "stream",
     "text": [
      "face bounding box coordinates: {'x_tl': 10, 'y_tl': 91, 'x_br': 82, 'y_br': 0}\n"
     ]
    },
    {
     "name": "stderr",
     "output_type": "stream",
     "text": [
      "Fusing layers... \n",
      "Model summary: 290 layers, 20852934 parameters, 0 gradients, 47.9 GFLOPs\n",
      "Speed: 5.0ms pre-process, 175.0ms inference, 3.0ms NMS per image at shape (1, 3, 640, 640)\n",
      "YOLOv5  2022-5-3 torch 1.11.0+cu113 CUDA:0 (NVIDIA GeForce RTX 3060, 12288MiB)\n",
      "\n"
     ]
    },
    {
     "name": "stdout",
     "output_type": "stream",
     "text": [
      "face bounding box coordinates: {'x_tl': 0, 'y_tl': 0, 'x_br': 0, 'y_br': 0}\n"
     ]
    },
    {
     "name": "stderr",
     "output_type": "stream",
     "text": [
      "Fusing layers... \n",
      "Model summary: 290 layers, 20852934 parameters, 0 gradients, 47.9 GFLOPs\n",
      "Speed: 1.0ms pre-process, 112.0ms inference, 0.0ms NMS per image at shape (1, 3, 640, 640)\n",
      "YOLOv5  2022-5-3 torch 1.11.0+cu113 CUDA:0 (NVIDIA GeForce RTX 3060, 12288MiB)\n",
      "\n"
     ]
    },
    {
     "name": "stdout",
     "output_type": "stream",
     "text": [
      "face bounding box coordinates: {'x_tl': 0, 'y_tl': 0, 'x_br': 0, 'y_br': 0}\n"
     ]
    },
    {
     "name": "stderr",
     "output_type": "stream",
     "text": [
      "Fusing layers... \n",
      "Model summary: 290 layers, 20852934 parameters, 0 gradients, 47.9 GFLOPs\n",
      "Speed: 30.0ms pre-process, 112.0ms inference, 10.0ms NMS per image at shape (1, 3, 640, 640)\n",
      "YOLOv5  2022-5-3 torch 1.11.0+cu113 CUDA:0 (NVIDIA GeForce RTX 3060, 12288MiB)\n",
      "\n"
     ]
    },
    {
     "name": "stdout",
     "output_type": "stream",
     "text": [
      "face bounding box coordinates: {'x_tl': 74, 'y_tl': 122, 'x_br': 126, 'y_br': 59}\n"
     ]
    },
    {
     "name": "stderr",
     "output_type": "stream",
     "text": [
      "Fusing layers... \n",
      "Model summary: 290 layers, 20852934 parameters, 0 gradients, 47.9 GFLOPs\n",
      "Speed: 3.0ms pre-process, 183.0ms inference, 4.0ms NMS per image at shape (1, 3, 640, 640)\n",
      "YOLOv5  2022-5-3 torch 1.11.0+cu113 CUDA:0 (NVIDIA GeForce RTX 3060, 12288MiB)\n",
      "\n"
     ]
    },
    {
     "name": "stdout",
     "output_type": "stream",
     "text": [
      "face bounding box coordinates: {'x_tl': 108, 'y_tl': 122, 'x_br': 187, 'y_br': 13}\n"
     ]
    },
    {
     "name": "stderr",
     "output_type": "stream",
     "text": [
      "Fusing layers... \n",
      "Model summary: 290 layers, 20852934 parameters, 0 gradients, 47.9 GFLOPs\n",
      "Speed: 3.0ms pre-process, 123.0ms inference, 6.0ms NMS per image at shape (1, 3, 640, 640)\n",
      "YOLOv5  2022-5-3 torch 1.11.0+cu113 CUDA:0 (NVIDIA GeForce RTX 3060, 12288MiB)\n",
      "\n"
     ]
    },
    {
     "name": "stdout",
     "output_type": "stream",
     "text": [
      "face bounding box coordinates: {'x_tl': 0, 'y_tl': 0, 'x_br': 0, 'y_br': 0}\n"
     ]
    },
    {
     "name": "stderr",
     "output_type": "stream",
     "text": [
      "Fusing layers... \n",
      "Model summary: 290 layers, 20852934 parameters, 0 gradients, 47.9 GFLOPs\n",
      "Speed: 9.0ms pre-process, 111.0ms inference, 3.0ms NMS per image at shape (1, 3, 640, 640)\n",
      "YOLOv5  2022-5-3 torch 1.11.0+cu113 CUDA:0 (NVIDIA GeForce RTX 3060, 12288MiB)\n",
      "\n"
     ]
    },
    {
     "name": "stdout",
     "output_type": "stream",
     "text": [
      "face bounding box coordinates: {'x_tl': 0, 'y_tl': 0, 'x_br': 0, 'y_br': 0}\n"
     ]
    },
    {
     "name": "stderr",
     "output_type": "stream",
     "text": [
      "Fusing layers... \n",
      "Model summary: 290 layers, 20852934 parameters, 0 gradients, 47.9 GFLOPs\n",
      "Speed: 6.0ms pre-process, 92.0ms inference, 13.0ms NMS per image at shape (1, 3, 640, 640)\n",
      "YOLOv5  2022-5-3 torch 1.11.0+cu113 CUDA:0 (NVIDIA GeForce RTX 3060, 12288MiB)\n",
      "\n"
     ]
    },
    {
     "name": "stdout",
     "output_type": "stream",
     "text": [
      "face bounding box coordinates: {'x_tl': 78, 'y_tl': 90, 'x_br': 143, 'y_br': 6}\n"
     ]
    },
    {
     "name": "stderr",
     "output_type": "stream",
     "text": [
      "Fusing layers... \n",
      "Model summary: 290 layers, 20852934 parameters, 0 gradients, 47.9 GFLOPs\n",
      "Speed: 5.0ms pre-process, 159.0ms inference, 33.1ms NMS per image at shape (1, 3, 640, 640)\n",
      "YOLOv5  2022-5-3 torch 1.11.0+cu113 CUDA:0 (NVIDIA GeForce RTX 3060, 12288MiB)\n",
      "\n"
     ]
    },
    {
     "name": "stdout",
     "output_type": "stream",
     "text": [
      "face bounding box coordinates: {'x_tl': 82, 'y_tl': 155, 'x_br': 216, 'y_br': 0}\n"
     ]
    },
    {
     "name": "stderr",
     "output_type": "stream",
     "text": [
      "Fusing layers... \n",
      "Model summary: 290 layers, 20852934 parameters, 0 gradients, 47.9 GFLOPs\n",
      "Speed: 3.0ms pre-process, 111.0ms inference, 9.2ms NMS per image at shape (1, 3, 640, 640)\n",
      "YOLOv5  2022-5-3 torch 1.11.0+cu113 CUDA:0 (NVIDIA GeForce RTX 3060, 12288MiB)\n",
      "\n"
     ]
    },
    {
     "name": "stdout",
     "output_type": "stream",
     "text": [
      "face bounding box coordinates: {'x_tl': 63, 'y_tl': 114, 'x_br': 144, 'y_br': 5}\n"
     ]
    },
    {
     "name": "stderr",
     "output_type": "stream",
     "text": [
      "Fusing layers... \n",
      "Model summary: 290 layers, 20852934 parameters, 0 gradients, 47.9 GFLOPs\n",
      "Speed: 8.9ms pre-process, 101.0ms inference, 1.0ms NMS per image at shape (1, 3, 640, 640)\n",
      "YOLOv5  2022-5-3 torch 1.11.0+cu113 CUDA:0 (NVIDIA GeForce RTX 3060, 12288MiB)\n",
      "\n"
     ]
    },
    {
     "name": "stdout",
     "output_type": "stream",
     "text": [
      "face bounding box coordinates: {'x_tl': 0, 'y_tl': 0, 'x_br': 0, 'y_br': 0}\n"
     ]
    },
    {
     "name": "stderr",
     "output_type": "stream",
     "text": [
      "Fusing layers... \n",
      "Model summary: 290 layers, 20852934 parameters, 0 gradients, 47.9 GFLOPs\n",
      "Speed: 13.0ms pre-process, 94.0ms inference, 6.0ms NMS per image at shape (1, 3, 640, 640)\n",
      "YOLOv5  2022-5-3 torch 1.11.0+cu113 CUDA:0 (NVIDIA GeForce RTX 3060, 12288MiB)\n",
      "\n"
     ]
    },
    {
     "name": "stdout",
     "output_type": "stream",
     "text": [
      "face bounding box coordinates: {'x_tl': 0, 'y_tl': 0, 'x_br': 0, 'y_br': 0}\n"
     ]
    },
    {
     "name": "stderr",
     "output_type": "stream",
     "text": [
      "Fusing layers... \n",
      "Model summary: 290 layers, 20852934 parameters, 0 gradients, 47.9 GFLOPs\n",
      "Speed: 9.0ms pre-process, 140.0ms inference, 3.0ms NMS per image at shape (1, 3, 640, 640)\n",
      "YOLOv5  2022-5-3 torch 1.11.0+cu113 CUDA:0 (NVIDIA GeForce RTX 3060, 12288MiB)\n",
      "\n"
     ]
    },
    {
     "name": "stdout",
     "output_type": "stream",
     "text": [
      "face bounding box coordinates: {'x_tl': 0, 'y_tl': 0, 'x_br': 0, 'y_br': 0}\n"
     ]
    },
    {
     "name": "stderr",
     "output_type": "stream",
     "text": [
      "Fusing layers... \n",
      "Model summary: 290 layers, 20852934 parameters, 0 gradients, 47.9 GFLOPs\n",
      "Speed: 3.0ms pre-process, 91.0ms inference, 18.0ms NMS per image at shape (1, 3, 640, 640)\n",
      "YOLOv5  2022-5-3 torch 1.11.0+cu113 CUDA:0 (NVIDIA GeForce RTX 3060, 12288MiB)\n",
      "\n"
     ]
    },
    {
     "name": "stdout",
     "output_type": "stream",
     "text": [
      "face bounding box coordinates: {'x_tl': 36, 'y_tl': 213, 'x_br': 215, 'y_br': 0}\n"
     ]
    },
    {
     "name": "stderr",
     "output_type": "stream",
     "text": [
      "Fusing layers... \n",
      "Model summary: 290 layers, 20852934 parameters, 0 gradients, 47.9 GFLOPs\n",
      "Speed: 6.0ms pre-process, 78.0ms inference, 15.0ms NMS per image at shape (1, 3, 640, 640)\n",
      "YOLOv5  2022-5-3 torch 1.11.0+cu113 CUDA:0 (NVIDIA GeForce RTX 3060, 12288MiB)\n",
      "\n"
     ]
    },
    {
     "name": "stdout",
     "output_type": "stream",
     "text": [
      "face bounding box coordinates: {'x_tl': 162, 'y_tl': 150, 'x_br': 285, 'y_br': 0}\n"
     ]
    },
    {
     "name": "stderr",
     "output_type": "stream",
     "text": [
      "Fusing layers... \n",
      "Model summary: 290 layers, 20852934 parameters, 0 gradients, 47.9 GFLOPs\n",
      "Speed: 3.0ms pre-process, 111.0ms inference, 10.0ms NMS per image at shape (1, 3, 640, 640)\n",
      "YOLOv5  2022-5-3 torch 1.11.0+cu113 CUDA:0 (NVIDIA GeForce RTX 3060, 12288MiB)\n",
      "\n"
     ]
    },
    {
     "name": "stdout",
     "output_type": "stream",
     "text": [
      "face bounding box coordinates: {'x_tl': 63, 'y_tl': 144, 'x_br': 169, 'y_br': 0}\n"
     ]
    },
    {
     "name": "stderr",
     "output_type": "stream",
     "text": [
      "Fusing layers... \n",
      "Model summary: 290 layers, 20852934 parameters, 0 gradients, 47.9 GFLOPs\n",
      "Speed: 3.0ms pre-process, 138.0ms inference, 1.0ms NMS per image at shape (1, 3, 640, 640)\n",
      "YOLOv5  2022-5-3 torch 1.11.0+cu113 CUDA:0 (NVIDIA GeForce RTX 3060, 12288MiB)\n",
      "\n"
     ]
    },
    {
     "name": "stdout",
     "output_type": "stream",
     "text": [
      "face bounding box coordinates: {'x_tl': 0, 'y_tl': 0, 'x_br': 0, 'y_br': 0}\n"
     ]
    },
    {
     "name": "stderr",
     "output_type": "stream",
     "text": [
      "Fusing layers... \n",
      "Model summary: 290 layers, 20852934 parameters, 0 gradients, 47.9 GFLOPs\n",
      "Speed: 9.1ms pre-process, 131.9ms inference, 3.0ms NMS per image at shape (1, 3, 640, 640)\n",
      "YOLOv5  2022-5-3 torch 1.11.0+cu113 CUDA:0 (NVIDIA GeForce RTX 3060, 12288MiB)\n",
      "\n"
     ]
    },
    {
     "name": "stdout",
     "output_type": "stream",
     "text": [
      "face bounding box coordinates: {'x_tl': 0, 'y_tl': 0, 'x_br': 0, 'y_br': 0}\n"
     ]
    },
    {
     "name": "stderr",
     "output_type": "stream",
     "text": [
      "Fusing layers... \n",
      "Model summary: 290 layers, 20852934 parameters, 0 gradients, 47.9 GFLOPs\n",
      "Speed: 1.0ms pre-process, 68.0ms inference, 4.0ms NMS per image at shape (1, 3, 640, 640)\n",
      "YOLOv5  2022-5-3 torch 1.11.0+cu113 CUDA:0 (NVIDIA GeForce RTX 3060, 12288MiB)\n",
      "\n"
     ]
    },
    {
     "name": "stdout",
     "output_type": "stream",
     "text": [
      "face bounding box coordinates: {'x_tl': 61, 'y_tl': 113, 'x_br': 126, 'y_br': 21}\n"
     ]
    },
    {
     "name": "stderr",
     "output_type": "stream",
     "text": [
      "Fusing layers... \n",
      "Model summary: 290 layers, 20852934 parameters, 0 gradients, 47.9 GFLOPs\n",
      "Speed: 3.0ms pre-process, 76.0ms inference, 9.0ms NMS per image at shape (1, 3, 640, 640)\n",
      "YOLOv5  2022-5-3 torch 1.11.0+cu113 CUDA:0 (NVIDIA GeForce RTX 3060, 12288MiB)\n",
      "\n"
     ]
    },
    {
     "name": "stdout",
     "output_type": "stream",
     "text": [
      "face bounding box coordinates: {'x_tl': 133, 'y_tl': 60, 'x_br': 171, 'y_br': 8}\n"
     ]
    },
    {
     "name": "stderr",
     "output_type": "stream",
     "text": [
      "Fusing layers... \n",
      "Model summary: 290 layers, 20852934 parameters, 0 gradients, 47.9 GFLOPs\n",
      "Speed: 2.0ms pre-process, 74.0ms inference, 0.0ms NMS per image at shape (1, 3, 640, 640)\n",
      "YOLOv5  2022-5-3 torch 1.11.0+cu113 CUDA:0 (NVIDIA GeForce RTX 3060, 12288MiB)\n",
      "\n"
     ]
    },
    {
     "name": "stdout",
     "output_type": "stream",
     "text": [
      "face bounding box coordinates: {'x_tl': 0, 'y_tl': 0, 'x_br': 0, 'y_br': 0}\n"
     ]
    },
    {
     "name": "stderr",
     "output_type": "stream",
     "text": [
      "Fusing layers... \n",
      "Model summary: 290 layers, 20852934 parameters, 0 gradients, 47.9 GFLOPs\n",
      "Speed: 3.0ms pre-process, 111.0ms inference, 3.0ms NMS per image at shape (1, 3, 640, 640)\n",
      "YOLOv5  2022-5-3 torch 1.11.0+cu113 CUDA:0 (NVIDIA GeForce RTX 3060, 12288MiB)\n",
      "\n"
     ]
    },
    {
     "name": "stdout",
     "output_type": "stream",
     "text": [
      "face bounding box coordinates: {'x_tl': 0, 'y_tl': 0, 'x_br': 0, 'y_br': 0}\n"
     ]
    },
    {
     "name": "stderr",
     "output_type": "stream",
     "text": [
      "Fusing layers... \n",
      "Model summary: 290 layers, 20852934 parameters, 0 gradients, 47.9 GFLOPs\n",
      "Speed: 3.0ms pre-process, 74.0ms inference, 7.0ms NMS per image at shape (1, 3, 640, 640)\n",
      "YOLOv5  2022-5-3 torch 1.11.0+cu113 CUDA:0 (NVIDIA GeForce RTX 3060, 12288MiB)\n",
      "\n"
     ]
    },
    {
     "name": "stdout",
     "output_type": "stream",
     "text": [
      "face bounding box coordinates: {'x_tl': 45, 'y_tl': 160, 'x_br': 145, 'y_br': 21}\n"
     ]
    },
    {
     "name": "stderr",
     "output_type": "stream",
     "text": [
      "Fusing layers... \n",
      "Model summary: 290 layers, 20852934 parameters, 0 gradients, 47.9 GFLOPs\n",
      "Speed: 6.0ms pre-process, 96.0ms inference, 12.0ms NMS per image at shape (1, 3, 640, 640)\n",
      "YOLOv5  2022-5-3 torch 1.11.0+cu113 CUDA:0 (NVIDIA GeForce RTX 3060, 12288MiB)\n",
      "\n"
     ]
    },
    {
     "name": "stdout",
     "output_type": "stream",
     "text": [
      "face bounding box coordinates: {'x_tl': 0, 'y_tl': 0, 'x_br': 0, 'y_br': 0}\n"
     ]
    },
    {
     "name": "stderr",
     "output_type": "stream",
     "text": [
      "Fusing layers... \n",
      "Model summary: 290 layers, 20852934 parameters, 0 gradients, 47.9 GFLOPs\n",
      "Speed: 5.0ms pre-process, 72.0ms inference, 6.0ms NMS per image at shape (1, 3, 640, 640)\n",
      "YOLOv5  2022-5-3 torch 1.11.0+cu113 CUDA:0 (NVIDIA GeForce RTX 3060, 12288MiB)\n",
      "\n"
     ]
    },
    {
     "name": "stdout",
     "output_type": "stream",
     "text": [
      "face bounding box coordinates: {'x_tl': 0, 'y_tl': 0, 'x_br': 0, 'y_br': 0}\n"
     ]
    },
    {
     "name": "stderr",
     "output_type": "stream",
     "text": [
      "Fusing layers... \n",
      "Model summary: 290 layers, 20852934 parameters, 0 gradients, 47.9 GFLOPs\n",
      "Speed: 6.0ms pre-process, 119.0ms inference, 21.0ms NMS per image at shape (1, 3, 640, 640)\n",
      "YOLOv5  2022-5-3 torch 1.11.0+cu113 CUDA:0 (NVIDIA GeForce RTX 3060, 12288MiB)\n",
      "\n"
     ]
    },
    {
     "name": "stdout",
     "output_type": "stream",
     "text": [
      "face bounding box coordinates: {'x_tl': 1, 'y_tl': 136, 'x_br': 112, 'y_br': 2}\n"
     ]
    },
    {
     "name": "stderr",
     "output_type": "stream",
     "text": [
      "Fusing layers... \n",
      "Model summary: 290 layers, 20852934 parameters, 0 gradients, 47.9 GFLOPs\n",
      "Speed: 0.0ms pre-process, 83.0ms inference, 1.0ms NMS per image at shape (1, 3, 640, 640)\n",
      "YOLOv5  2022-5-3 torch 1.11.0+cu113 CUDA:0 (NVIDIA GeForce RTX 3060, 12288MiB)\n",
      "\n"
     ]
    },
    {
     "name": "stdout",
     "output_type": "stream",
     "text": [
      "face bounding box coordinates: {'x_tl': 0, 'y_tl': 0, 'x_br': 0, 'y_br': 0}\n"
     ]
    },
    {
     "name": "stderr",
     "output_type": "stream",
     "text": [
      "Fusing layers... \n",
      "Model summary: 290 layers, 20852934 parameters, 0 gradients, 47.9 GFLOPs\n",
      "Speed: 2.0ms pre-process, 99.0ms inference, 0.0ms NMS per image at shape (1, 3, 640, 640)\n",
      "YOLOv5  2022-5-3 torch 1.11.0+cu113 CUDA:0 (NVIDIA GeForce RTX 3060, 12288MiB)\n",
      "\n"
     ]
    },
    {
     "name": "stdout",
     "output_type": "stream",
     "text": [
      "face bounding box coordinates: {'x_tl': 0, 'y_tl': 0, 'x_br': 0, 'y_br': 0}\n"
     ]
    },
    {
     "name": "stderr",
     "output_type": "stream",
     "text": [
      "Fusing layers... \n",
      "Model summary: 290 layers, 20852934 parameters, 0 gradients, 47.9 GFLOPs\n",
      "Speed: 1.0ms pre-process, 137.0ms inference, 9.0ms NMS per image at shape (1, 3, 640, 640)\n",
      "YOLOv5  2022-5-3 torch 1.11.0+cu113 CUDA:0 (NVIDIA GeForce RTX 3060, 12288MiB)\n",
      "\n"
     ]
    },
    {
     "name": "stdout",
     "output_type": "stream",
     "text": [
      "face bounding box coordinates: {'x_tl': 27, 'y_tl': 230, 'x_br': 181, 'y_br': 10}\n"
     ]
    },
    {
     "name": "stderr",
     "output_type": "stream",
     "text": [
      "Fusing layers... \n",
      "Model summary: 290 layers, 20852934 parameters, 0 gradients, 47.9 GFLOPs\n",
      "Speed: 9.0ms pre-process, 157.0ms inference, 0.0ms NMS per image at shape (1, 3, 640, 640)\n",
      "YOLOv5  2022-5-3 torch 1.11.0+cu113 CUDA:0 (NVIDIA GeForce RTX 3060, 12288MiB)\n",
      "\n"
     ]
    },
    {
     "name": "stdout",
     "output_type": "stream",
     "text": [
      "face bounding box coordinates: {'x_tl': 0, 'y_tl': 0, 'x_br': 0, 'y_br': 0}\n"
     ]
    },
    {
     "name": "stderr",
     "output_type": "stream",
     "text": [
      "Fusing layers... \n",
      "Model summary: 290 layers, 20852934 parameters, 0 gradients, 47.9 GFLOPs\n",
      "Speed: 1.0ms pre-process, 143.0ms inference, 4.0ms NMS per image at shape (1, 3, 640, 640)\n",
      "YOLOv5  2022-5-3 torch 1.11.0+cu113 CUDA:0 (NVIDIA GeForce RTX 3060, 12288MiB)\n",
      "\n"
     ]
    },
    {
     "name": "stdout",
     "output_type": "stream",
     "text": [
      "face bounding box coordinates: {'x_tl': 89, 'y_tl': 131, 'x_br': 179, 'y_br': 3}\n"
     ]
    },
    {
     "name": "stderr",
     "output_type": "stream",
     "text": [
      "Fusing layers... \n",
      "Model summary: 290 layers, 20852934 parameters, 0 gradients, 47.9 GFLOPs\n",
      "Speed: 4.0ms pre-process, 186.3ms inference, 20.7ms NMS per image at shape (1, 3, 640, 640)\n",
      "YOLOv5  2022-5-3 torch 1.11.0+cu113 CUDA:0 (NVIDIA GeForce RTX 3060, 12288MiB)\n",
      "\n"
     ]
    },
    {
     "name": "stdout",
     "output_type": "stream",
     "text": [
      "face bounding box coordinates: {'x_tl': 26, 'y_tl': 138, 'x_br': 121, 'y_br': 0}\n"
     ]
    },
    {
     "name": "stderr",
     "output_type": "stream",
     "text": [
      "Fusing layers... \n",
      "Model summary: 290 layers, 20852934 parameters, 0 gradients, 47.9 GFLOPs\n",
      "Speed: 3.0ms pre-process, 164.0ms inference, 5.0ms NMS per image at shape (1, 3, 640, 640)\n",
      "YOLOv5  2022-5-3 torch 1.11.0+cu113 CUDA:0 (NVIDIA GeForce RTX 3060, 12288MiB)\n",
      "\n"
     ]
    },
    {
     "name": "stdout",
     "output_type": "stream",
     "text": [
      "face bounding box coordinates: {'x_tl': 67, 'y_tl': 116, 'x_br': 155, 'y_br': 0}\n"
     ]
    },
    {
     "name": "stderr",
     "output_type": "stream",
     "text": [
      "Fusing layers... \n",
      "Model summary: 290 layers, 20852934 parameters, 0 gradients, 47.9 GFLOPs\n",
      "Speed: 3.0ms pre-process, 150.0ms inference, 14.0ms NMS per image at shape (1, 3, 640, 640)\n",
      "YOLOv5  2022-5-3 torch 1.11.0+cu113 CUDA:0 (NVIDIA GeForce RTX 3060, 12288MiB)\n",
      "\n"
     ]
    },
    {
     "name": "stdout",
     "output_type": "stream",
     "text": [
      "face bounding box coordinates: {'x_tl': 6, 'y_tl': 142, 'x_br': 148, 'y_br': 0}\n"
     ]
    },
    {
     "name": "stderr",
     "output_type": "stream",
     "text": [
      "Fusing layers... \n",
      "Model summary: 290 layers, 20852934 parameters, 0 gradients, 47.9 GFLOPs\n",
      "Speed: 5.0ms pre-process, 94.0ms inference, 6.0ms NMS per image at shape (1, 3, 640, 640)\n",
      "YOLOv5  2022-5-3 torch 1.11.0+cu113 CUDA:0 (NVIDIA GeForce RTX 3060, 12288MiB)\n",
      "\n"
     ]
    },
    {
     "name": "stdout",
     "output_type": "stream",
     "text": [
      "face bounding box coordinates: {'x_tl': 0, 'y_tl': 0, 'x_br': 0, 'y_br': 0}\n"
     ]
    },
    {
     "name": "stderr",
     "output_type": "stream",
     "text": [
      "Fusing layers... \n",
      "Model summary: 290 layers, 20852934 parameters, 0 gradients, 47.9 GFLOPs\n",
      "Speed: 5.0ms pre-process, 144.0ms inference, 16.0ms NMS per image at shape (1, 3, 640, 640)\n",
      "YOLOv5  2022-5-3 torch 1.11.0+cu113 CUDA:0 (NVIDIA GeForce RTX 3060, 12288MiB)\n",
      "\n"
     ]
    },
    {
     "name": "stdout",
     "output_type": "stream",
     "text": [
      "face bounding box coordinates: {'x_tl': 10, 'y_tl': 191, 'x_br': 172, 'y_br': 2}\n"
     ]
    },
    {
     "name": "stderr",
     "output_type": "stream",
     "text": [
      "Fusing layers... \n",
      "Model summary: 290 layers, 20852934 parameters, 0 gradients, 47.9 GFLOPs\n",
      "Speed: 7.0ms pre-process, 140.0ms inference, 12.0ms NMS per image at shape (1, 3, 640, 640)\n",
      "YOLOv5  2022-5-3 torch 1.11.0+cu113 CUDA:0 (NVIDIA GeForce RTX 3060, 12288MiB)\n",
      "\n"
     ]
    },
    {
     "name": "stdout",
     "output_type": "stream",
     "text": [
      "face bounding box coordinates: {'x_tl': 168, 'y_tl': 88, 'x_br': 217, 'y_br': 23}\n"
     ]
    },
    {
     "name": "stderr",
     "output_type": "stream",
     "text": [
      "Fusing layers... \n",
      "Model summary: 290 layers, 20852934 parameters, 0 gradients, 47.9 GFLOPs\n",
      "Speed: 6.0ms pre-process, 93.0ms inference, 12.7ms NMS per image at shape (1, 3, 640, 640)\n",
      "YOLOv5  2022-5-3 torch 1.11.0+cu113 CUDA:0 (NVIDIA GeForce RTX 3060, 12288MiB)\n",
      "\n"
     ]
    },
    {
     "name": "stdout",
     "output_type": "stream",
     "text": [
      "face bounding box coordinates: {'x_tl': 121, 'y_tl': 109, 'x_br': 182, 'y_br': 3}\n"
     ]
    },
    {
     "name": "stderr",
     "output_type": "stream",
     "text": [
      "Fusing layers... \n",
      "Model summary: 290 layers, 20852934 parameters, 0 gradients, 47.9 GFLOPs\n",
      "Speed: 3.0ms pre-process, 110.0ms inference, 3.0ms NMS per image at shape (1, 3, 640, 640)\n",
      "YOLOv5  2022-5-3 torch 1.11.0+cu113 CUDA:0 (NVIDIA GeForce RTX 3060, 12288MiB)\n",
      "\n"
     ]
    },
    {
     "name": "stdout",
     "output_type": "stream",
     "text": [
      "face bounding box coordinates: {'x_tl': 0, 'y_tl': 0, 'x_br': 0, 'y_br': 0}\n"
     ]
    },
    {
     "name": "stderr",
     "output_type": "stream",
     "text": [
      "Fusing layers... \n",
      "Model summary: 290 layers, 20852934 parameters, 0 gradients, 47.9 GFLOPs\n",
      "Speed: 3.0ms pre-process, 76.0ms inference, 12.0ms NMS per image at shape (1, 3, 640, 640)\n",
      "YOLOv5  2022-5-3 torch 1.11.0+cu113 CUDA:0 (NVIDIA GeForce RTX 3060, 12288MiB)\n",
      "\n"
     ]
    },
    {
     "name": "stdout",
     "output_type": "stream",
     "text": [
      "face bounding box coordinates: {'x_tl': 88, 'y_tl': 109, 'x_br': 177, 'y_br': 4}\n"
     ]
    },
    {
     "name": "stderr",
     "output_type": "stream",
     "text": [
      "Fusing layers... \n",
      "Model summary: 290 layers, 20852934 parameters, 0 gradients, 47.9 GFLOPs\n",
      "Speed: 3.0ms pre-process, 115.0ms inference, 3.0ms NMS per image at shape (1, 3, 640, 640)\n"
     ]
    },
    {
     "name": "stdout",
     "output_type": "stream",
     "text": [
      "face bounding box coordinates: {'x_tl': 0, 'y_tl': 0, 'x_br': 0, 'y_br': 0}\n"
     ]
    }
   ],
   "source": [
    "directory = 'data/cnn/download'\n",
    "save_directory = 'data/cnn/download_cropped'\n",
    "for celebrity in os.listdir(directory):\n",
    "    if not os.path.exists(f'{save_directory}/{celebrity}'):\n",
    "        os.mkdir(f'{save_directory}/{celebrity}')\n",
    "    for img in os.listdir(f'{directory}/{celebrity}'):\n",
    "        out = run('yolov5/weights/best.pt', source=f'{directory}/{celebrity}/{img}', nosave=True, conf_thres=0.8)\n",
    "        if out['num_pred'] == 1:\n",
    "            if is_face_centered(out['frame'], out['box']):\n",
    "                crop_im = resize_face(out['frame'], out['box'])\n",
    "                cv2.imwrite(f'{save_directory}/{celebrity}/{img}', crop_im)"
   ]
  }
 ],
 "metadata": {
  "interpreter": {
   "hash": "822e501169b5cf6038b441d7dc7f0365e16bc999c384d919edb0bf942a8e9429"
  },
  "kernelspec": {
   "display_name": "Python 3.9.10 ('venv': venv)",
   "language": "python",
   "name": "python3"
  },
  "language_info": {
   "codemirror_mode": {
    "name": "ipython",
    "version": 3
   },
   "file_extension": ".py",
   "mimetype": "text/x-python",
   "name": "python",
   "nbconvert_exporter": "python",
   "pygments_lexer": "ipython3",
   "version": "3.9.10"
  },
  "orig_nbformat": 4
 },
 "nbformat": 4,
 "nbformat_minor": 2
}
