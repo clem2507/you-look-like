{
 "cells": [
  {
   "cell_type": "code",
   "execution_count": 2,
   "metadata": {},
   "outputs": [],
   "source": [
    "import numpy as np\n",
    "from get_data import create_directories, build_search_url, download_extended_page, download_image, get_all_items"
   ]
  },
  {
   "cell_type": "code",
   "execution_count": 8,
   "metadata": {},
   "outputs": [
    {
     "name": "stdout",
     "output_type": "stream",
     "text": [
      "Number of keywords: 100\n"
     ]
    }
   ],
   "source": [
    "f = open('people.txt')\n",
    "keywords = f.read().splitlines()\n",
    "# keywords = ['omar sy', 'elon musk']\n",
    "print(\"Number of keywords:\", len(keywords))"
   ]
  },
  {
   "cell_type": "code",
   "execution_count": 10,
   "metadata": {},
   "outputs": [],
   "source": [
    "sufix = \"face\"\n",
    "\n",
    "keywords = [keyword + \" \" + sufix for keyword in keywords]\n",
    "search_keywords = [str(item) for item in keywords]\n",
    "\n",
    "limit = 1400\n",
    "\n",
    "main_directory = \"data/cnn/download\""
   ]
  },
  {
   "cell_type": "code",
   "execution_count": null,
   "metadata": {},
   "outputs": [],
   "source": [
    "i_search_keywoard = 0\n",
    "\n",
    "while i_search_keywoard < len(search_keywords):\n",
    "\tsearch_term = search_keywords[i_search_keywoard]\n",
    "\n",
    "\tsubdirectory_name = search_term\n",
    "\tcreate_directories(main_directory, subdirectory_name)\n",
    "\n",
    "\turl = build_search_url(search_term)\n",
    "\traw_html = download_extended_page(url)\n",
    "\n",
    "\tget_all_items(raw_html, main_directory, subdirectory_name, limit)\n",
    "\n",
    "\ti_search_keywoard += 1"
   ]
  }
 ],
 "metadata": {
  "interpreter": {
   "hash": "4683b20f8a9caa9df8f46d50d1d85dd41682cb3a42c762c3ccee7e06a2237664"
  },
  "kernelspec": {
   "display_name": "Python 3.9.2 ('venv': venv)",
   "language": "python",
   "name": "python3"
  },
  "language_info": {
   "codemirror_mode": {
    "name": "ipython",
    "version": 3
   },
   "file_extension": ".py",
   "mimetype": "text/x-python",
   "name": "python",
   "nbconvert_exporter": "python",
   "pygments_lexer": "ipython3",
   "version": "3.9.2"
  },
  "orig_nbformat": 4
 },
 "nbformat": 4,
 "nbformat_minor": 2
}
