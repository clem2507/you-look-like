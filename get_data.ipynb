{
 "cells": [
  {
   "cell_type": "code",
   "execution_count": 2,
   "metadata": {},
   "outputs": [
    {
     "name": "stderr",
     "output_type": "stream",
     "text": [
      "c:\\Users\\cdetr\\Documents\\GitHub\\you-look-like\\venv\\lib\\site-packages\\tqdm\\auto.py:22: TqdmWarning: IProgress not found. Please update jupyter and ipywidgets. See https://ipywidgets.readthedocs.io/en/stable/user_install.html\n",
      "  from .autonotebook import tqdm as notebook_tqdm\n"
     ]
    }
   ],
   "source": [
    "import os\n",
    "import cv2\n",
    "import random\n",
    "import numpy as np\n",
    "import tensorflow as tf\n",
    "\n",
    "from yolov5.detect import run\n",
    "from util import resize_face, is_face_centered\n",
    "from get_data import create_directories, build_search_url, download_extended_page, download_image, get_all_items"
   ]
  },
  {
   "cell_type": "code",
   "execution_count": null,
   "metadata": {},
   "outputs": [],
   "source": [
    "f = open('people.txt')\n",
    "keywords = f.read().splitlines()\n",
    "# keywords = ['omar sy', 'elon musk']\n",
    "print(\"Number of keywords:\", len(keywords))"
   ]
  },
  {
   "cell_type": "code",
   "execution_count": null,
   "metadata": {},
   "outputs": [],
   "source": [
    "sufix = \"face\"\n",
    "\n",
    "keywords = [keyword + \" \" + sufix for keyword in keywords]\n",
    "search_keywords = [str(item) for item in keywords]\n",
    "\n",
    "limit = 1400\n",
    "\n",
    "main_directory = \"data/cnn/download\""
   ]
  },
  {
   "cell_type": "code",
   "execution_count": null,
   "metadata": {},
   "outputs": [],
   "source": [
    "i_search_keywoard = 0\n",
    "\n",
    "while i_search_keywoard < len(search_keywords):\n",
    "\tsearch_term = search_keywords[i_search_keywoard]\n",
    "\n",
    "\tsubdirectory_name = search_term\n",
    "\tcreate_directories(main_directory, subdirectory_name)\n",
    "\n",
    "\turl = build_search_url(search_term)\n",
    "\traw_html = download_extended_page(url)\n",
    "\n",
    "\tget_all_items(raw_html, main_directory, subdirectory_name, limit)\n",
    "\n",
    "\ti_search_keywoard += 1"
   ]
  },
  {
   "cell_type": "code",
   "execution_count": null,
   "metadata": {},
   "outputs": [],
   "source": [
    "directory = 'data/cnn/download'\n",
    "save_directory = 'data/cnn/download_cropped'\n",
    "for celebrity in os.listdir(directory):\n",
    "    if not os.path.exists(f'{save_directory}/{celebrity}'):\n",
    "        os.mkdir(f'{save_directory}/{celebrity}')\n",
    "    for img in os.listdir(f'{directory}/{celebrity}'):\n",
    "        out = run('weights/yolov5/best.pt', source=f'{directory}/{celebrity}/{img}', nosave=True, conf_thres=0.8)\n",
    "        if out['num_pred'] == 1:\n",
    "            if is_face_centered(out['frame'], out['box']):\n",
    "                crop_im = resize_face(out['frame'], out['box'])\n",
    "                cv2.imwrite(f'{save_directory}/{celebrity}/{img}', crop_im)"
   ]
  },
  {
   "cell_type": "code",
   "execution_count": 10,
   "metadata": {},
   "outputs": [],
   "source": [
    "data_augmentor = tf.keras.Sequential([\n",
    "    tf.keras.layers.RandomFlip('horizontal_and_vertical'),\n",
    "    tf.keras.layers.RandomRotation(0.2),\n",
    "]) \n",
    "\n",
    "directory = 'data/cnn/download_cropped'\n",
    "for celebrity in os.listdir(directory):\n",
    "    celebrity_images = os.listdir(f'{directory}/{celebrity}')\n",
    "    num_of_img = len(celebrity_images)\n",
    "    for i in range(500-num_of_img):\n",
    "        idx = random.randint(0, num_of_img-1)\n",
    "        img_path = f'{directory}/{celebrity}/{celebrity_images[idx]}'\n",
    "        img = tf.keras.preprocessing.image.load_img(img_path)\n",
    "        img = tf.cast(tf.expand_dims(img, 0), tf.float32)\n",
    "        aug_img = data_augmentor(img)\n",
    "        aug_img = np.reshape(aug_img.numpy(), (aug_img.shape[1], aug_img.shape[2], aug_img.shape[3]))\n",
    "        cv2.imwrite(f'{img_path[:-4]}_augmented_{i}.jpg', cv2.cvtColor(aug_img, cv2.COLOR_BGR2RGB))"
   ]
  }
 ],
 "metadata": {
  "interpreter": {
   "hash": "822e501169b5cf6038b441d7dc7f0365e16bc999c384d919edb0bf942a8e9429"
  },
  "kernelspec": {
   "display_name": "Python 3.9.10 ('venv': venv)",
   "language": "python",
   "name": "python3"
  },
  "language_info": {
   "name": "python",
   "version": "3.9.10"
  },
  "orig_nbformat": 4
 },
 "nbformat": 4,
 "nbformat_minor": 2
}
